{
  "nbformat": 4,
  "nbformat_minor": 0,
  "metadata": {
    "colab": {
      "name": "NeuralNet.ipynb",
      "version": "0.3.2",
      "provenance": [],
      "collapsed_sections": []
    },
    "kernelspec": {
      "name": "python3",
      "display_name": "Python 3"
    }
  },
  "cells": [
    {
      "cell_type": "code",
      "metadata": {
        "id": "L0yfohI7VC5T",
        "colab_type": "code",
        "colab": {
          "base_uri": "https://localhost:8080/",
          "height": 34
        },
        "outputId": "67e20077-9aea-4392-a10c-d47f9599853b"
      },
      "source": [
        "# Create your first MLP in Keras\n",
        "from keras.models import Sequential"
      ],
      "execution_count": 1,
      "outputs": [
        {
          "output_type": "stream",
          "text": [
            "Using TensorFlow backend.\n"
          ],
          "name": "stderr"
        }
      ]
    },
    {
      "cell_type": "code",
      "metadata": {
        "id": "aKdQdOS3VKsN",
        "colab_type": "code",
        "colab": {}
      },
      "source": [
        "from keras.layers import Dense"
      ],
      "execution_count": 0,
      "outputs": []
    },
    {
      "cell_type": "code",
      "metadata": {
        "id": "ZU7xCdSCVWvj",
        "colab_type": "code",
        "colab": {}
      },
      "source": [
        "import numpy\n",
        "# fix random seed for reproducibility\n",
        "numpy.random.seed(7)"
      ],
      "execution_count": 0,
      "outputs": []
    },
    {
      "cell_type": "code",
      "metadata": {
        "id": "q2kqRbxAVhVx",
        "colab_type": "code",
        "colab": {}
      },
      "source": [
        "import pandas as pd\n",
        "data=pd.read_csv(\"diabetes.csv\")"
      ],
      "execution_count": 0,
      "outputs": []
    },
    {
      "cell_type": "code",
      "metadata": {
        "id": "IX_ac-g_V7dw",
        "colab_type": "code",
        "colab": {
          "base_uri": "https://localhost:8080/",
          "height": 195
        },
        "outputId": "98f7445b-fc44-4ba5-f6f9-ab7fc9c6a760"
      },
      "source": [
        "data.head()"
      ],
      "execution_count": 7,
      "outputs": [
        {
          "output_type": "execute_result",
          "data": {
            "text/html": [
              "<div>\n",
              "<style scoped>\n",
              "    .dataframe tbody tr th:only-of-type {\n",
              "        vertical-align: middle;\n",
              "    }\n",
              "\n",
              "    .dataframe tbody tr th {\n",
              "        vertical-align: top;\n",
              "    }\n",
              "\n",
              "    .dataframe thead th {\n",
              "        text-align: right;\n",
              "    }\n",
              "</style>\n",
              "<table border=\"1\" class=\"dataframe\">\n",
              "  <thead>\n",
              "    <tr style=\"text-align: right;\">\n",
              "      <th></th>\n",
              "      <th>Pregnancies</th>\n",
              "      <th>Glucose</th>\n",
              "      <th>BloodPressure</th>\n",
              "      <th>SkinThickness</th>\n",
              "      <th>Insulin</th>\n",
              "      <th>BMI</th>\n",
              "      <th>DiabetesPedigreeFunction</th>\n",
              "      <th>Age</th>\n",
              "      <th>Outcome</th>\n",
              "    </tr>\n",
              "  </thead>\n",
              "  <tbody>\n",
              "    <tr>\n",
              "      <th>0</th>\n",
              "      <td>6</td>\n",
              "      <td>148</td>\n",
              "      <td>72</td>\n",
              "      <td>35</td>\n",
              "      <td>0</td>\n",
              "      <td>33.6</td>\n",
              "      <td>0.627</td>\n",
              "      <td>50</td>\n",
              "      <td>1</td>\n",
              "    </tr>\n",
              "    <tr>\n",
              "      <th>1</th>\n",
              "      <td>1</td>\n",
              "      <td>85</td>\n",
              "      <td>66</td>\n",
              "      <td>29</td>\n",
              "      <td>0</td>\n",
              "      <td>26.6</td>\n",
              "      <td>0.351</td>\n",
              "      <td>31</td>\n",
              "      <td>0</td>\n",
              "    </tr>\n",
              "    <tr>\n",
              "      <th>2</th>\n",
              "      <td>8</td>\n",
              "      <td>183</td>\n",
              "      <td>64</td>\n",
              "      <td>0</td>\n",
              "      <td>0</td>\n",
              "      <td>23.3</td>\n",
              "      <td>0.672</td>\n",
              "      <td>32</td>\n",
              "      <td>1</td>\n",
              "    </tr>\n",
              "    <tr>\n",
              "      <th>3</th>\n",
              "      <td>1</td>\n",
              "      <td>89</td>\n",
              "      <td>66</td>\n",
              "      <td>23</td>\n",
              "      <td>94</td>\n",
              "      <td>28.1</td>\n",
              "      <td>0.167</td>\n",
              "      <td>21</td>\n",
              "      <td>0</td>\n",
              "    </tr>\n",
              "    <tr>\n",
              "      <th>4</th>\n",
              "      <td>0</td>\n",
              "      <td>137</td>\n",
              "      <td>40</td>\n",
              "      <td>35</td>\n",
              "      <td>168</td>\n",
              "      <td>43.1</td>\n",
              "      <td>2.288</td>\n",
              "      <td>33</td>\n",
              "      <td>1</td>\n",
              "    </tr>\n",
              "  </tbody>\n",
              "</table>\n",
              "</div>"
            ],
            "text/plain": [
              "   Pregnancies  Glucose  BloodPressure  ...  DiabetesPedigreeFunction  Age  Outcome\n",
              "0            6      148             72  ...                     0.627   50        1\n",
              "1            1       85             66  ...                     0.351   31        0\n",
              "2            8      183             64  ...                     0.672   32        1\n",
              "3            1       89             66  ...                     0.167   21        0\n",
              "4            0      137             40  ...                     2.288   33        1\n",
              "\n",
              "[5 rows x 9 columns]"
            ]
          },
          "metadata": {
            "tags": []
          },
          "execution_count": 7
        }
      ]
    },
    {
      "cell_type": "code",
      "metadata": {
        "id": "KlXYAV_SV-Q8",
        "colab_type": "code",
        "colab": {}
      },
      "source": [
        "# split into input (X) and output (Y) variables\n",
        "X = data.iloc[:,0:8]\n",
        "Y = data.iloc[:,8]"
      ],
      "execution_count": 0,
      "outputs": []
    },
    {
      "cell_type": "code",
      "metadata": {
        "id": "xqAq9koDWpnI",
        "colab_type": "code",
        "colab": {
          "base_uri": "https://localhost:8080/",
          "height": 138
        },
        "outputId": "661eb1c4-4f53-47d7-c051-fdd3639e35bd"
      },
      "source": [
        "# create model\n",
        "model = Sequential()\n",
        "model.add(Dense(12, input_dim=8, activation='relu'))\n",
        "model.add(Dense(8, activation='relu'))\n",
        "model.add(Dense(1, activation='sigmoid'))"
      ],
      "execution_count": 11,
      "outputs": [
        {
          "output_type": "stream",
          "text": [
            "WARNING:tensorflow:From /usr/local/lib/python3.6/dist-packages/keras/backend/tensorflow_backend.py:66: The name tf.get_default_graph is deprecated. Please use tf.compat.v1.get_default_graph instead.\n",
            "\n",
            "WARNING:tensorflow:From /usr/local/lib/python3.6/dist-packages/keras/backend/tensorflow_backend.py:541: The name tf.placeholder is deprecated. Please use tf.compat.v1.placeholder instead.\n",
            "\n",
            "WARNING:tensorflow:From /usr/local/lib/python3.6/dist-packages/keras/backend/tensorflow_backend.py:4432: The name tf.random_uniform is deprecated. Please use tf.random.uniform instead.\n",
            "\n"
          ],
          "name": "stdout"
        }
      ]
    },
    {
      "cell_type": "code",
      "metadata": {
        "id": "kvIx9BRTbR5e",
        "colab_type": "code",
        "colab": {
          "base_uri": "https://localhost:8080/",
          "height": 154
        },
        "outputId": "9c52a6f4-8269-4c86-e80f-ead454d1b95e"
      },
      "source": [
        "# Compile model\n",
        "model.compile(loss='binary_crossentropy', optimizer='adam', metrics=['accuracy'])"
      ],
      "execution_count": 12,
      "outputs": [
        {
          "output_type": "stream",
          "text": [
            "WARNING:tensorflow:From /usr/local/lib/python3.6/dist-packages/keras/optimizers.py:793: The name tf.train.Optimizer is deprecated. Please use tf.compat.v1.train.Optimizer instead.\n",
            "\n",
            "WARNING:tensorflow:From /usr/local/lib/python3.6/dist-packages/keras/backend/tensorflow_backend.py:3657: The name tf.log is deprecated. Please use tf.math.log instead.\n",
            "\n",
            "WARNING:tensorflow:From /usr/local/lib/python3.6/dist-packages/tensorflow/python/ops/nn_impl.py:180: add_dispatch_support.<locals>.wrapper (from tensorflow.python.ops.array_ops) is deprecated and will be removed in a future version.\n",
            "Instructions for updating:\n",
            "Use tf.where in 2.0, which has the same broadcast rule as np.where\n"
          ],
          "name": "stdout"
        }
      ]
    },
    {
      "cell_type": "code",
      "metadata": {
        "id": "iTlmmUpYbXc-",
        "colab_type": "code",
        "colab": {
          "base_uri": "https://localhost:8080/",
          "height": 1000
        },
        "outputId": "21837867-c21c-49d4-ea1d-a9bfb3ac39d0"
      },
      "source": [
        "# Fit the model\n",
        "model.fit(X, Y, epochs=150, batch_size=10)"
      ],
      "execution_count": 13,
      "outputs": [
        {
          "output_type": "stream",
          "text": [
            "WARNING:tensorflow:From /usr/local/lib/python3.6/dist-packages/keras/backend/tensorflow_backend.py:1033: The name tf.assign_add is deprecated. Please use tf.compat.v1.assign_add instead.\n",
            "\n",
            "Epoch 1/150\n",
            "768/768 [==============================] - 1s 1ms/step - loss: 3.7049 - acc: 0.5977\n",
            "Epoch 2/150\n",
            "768/768 [==============================] - 0s 122us/step - loss: 0.9410 - acc: 0.5885\n",
            "Epoch 3/150\n",
            "768/768 [==============================] - 0s 133us/step - loss: 0.7526 - acc: 0.6419\n",
            "Epoch 4/150\n",
            "768/768 [==============================] - 0s 128us/step - loss: 0.7132 - acc: 0.6432\n",
            "Epoch 5/150\n",
            "768/768 [==============================] - 0s 122us/step - loss: 0.6845 - acc: 0.6784\n",
            "Epoch 6/150\n",
            "768/768 [==============================] - 0s 129us/step - loss: 0.6498 - acc: 0.6810\n",
            "Epoch 7/150\n",
            "768/768 [==============================] - 0s 136us/step - loss: 0.6485 - acc: 0.6732\n",
            "Epoch 8/150\n",
            "768/768 [==============================] - 0s 120us/step - loss: 0.6379 - acc: 0.6914\n",
            "Epoch 9/150\n",
            "768/768 [==============================] - 0s 121us/step - loss: 0.6227 - acc: 0.6836\n",
            "Epoch 10/150\n",
            "768/768 [==============================] - 0s 115us/step - loss: 0.6304 - acc: 0.6771\n",
            "Epoch 11/150\n",
            "768/768 [==============================] - 0s 114us/step - loss: 0.6459 - acc: 0.6732\n",
            "Epoch 12/150\n",
            "768/768 [==============================] - 0s 131us/step - loss: 0.6412 - acc: 0.6771\n",
            "Epoch 13/150\n",
            "768/768 [==============================] - 0s 127us/step - loss: 0.6270 - acc: 0.6810\n",
            "Epoch 14/150\n",
            "768/768 [==============================] - 0s 124us/step - loss: 0.6173 - acc: 0.6953\n",
            "Epoch 15/150\n",
            "768/768 [==============================] - 0s 120us/step - loss: 0.6025 - acc: 0.6940\n",
            "Epoch 16/150\n",
            "768/768 [==============================] - 0s 114us/step - loss: 0.5878 - acc: 0.7044\n",
            "Epoch 17/150\n",
            "768/768 [==============================] - 0s 126us/step - loss: 0.5849 - acc: 0.7044\n",
            "Epoch 18/150\n",
            "768/768 [==============================] - 0s 112us/step - loss: 0.5990 - acc: 0.6979\n",
            "Epoch 19/150\n",
            "768/768 [==============================] - 0s 117us/step - loss: 0.5809 - acc: 0.7135\n",
            "Epoch 20/150\n",
            "768/768 [==============================] - 0s 134us/step - loss: 0.5792 - acc: 0.7187\n",
            "Epoch 21/150\n",
            "768/768 [==============================] - 0s 128us/step - loss: 0.5690 - acc: 0.7122\n",
            "Epoch 22/150\n",
            "768/768 [==============================] - 0s 117us/step - loss: 0.5820 - acc: 0.6979\n",
            "Epoch 23/150\n",
            "768/768 [==============================] - 0s 132us/step - loss: 0.5716 - acc: 0.7161\n",
            "Epoch 24/150\n",
            "768/768 [==============================] - 0s 129us/step - loss: 0.5675 - acc: 0.7331\n",
            "Epoch 25/150\n",
            "768/768 [==============================] - 0s 136us/step - loss: 0.5567 - acc: 0.7396\n",
            "Epoch 26/150\n",
            "768/768 [==============================] - 0s 131us/step - loss: 0.5706 - acc: 0.7109\n",
            "Epoch 27/150\n",
            "768/768 [==============================] - 0s 126us/step - loss: 0.5555 - acc: 0.7188\n",
            "Epoch 28/150\n",
            "768/768 [==============================] - 0s 127us/step - loss: 0.5561 - acc: 0.7279\n",
            "Epoch 29/150\n",
            "768/768 [==============================] - 0s 133us/step - loss: 0.5722 - acc: 0.7214\n",
            "Epoch 30/150\n",
            "768/768 [==============================] - 0s 121us/step - loss: 0.5606 - acc: 0.7227\n",
            "Epoch 31/150\n",
            "768/768 [==============================] - 0s 130us/step - loss: 0.5692 - acc: 0.7135\n",
            "Epoch 32/150\n",
            "768/768 [==============================] - 0s 137us/step - loss: 0.5633 - acc: 0.7148\n",
            "Epoch 33/150\n",
            "768/768 [==============================] - 0s 127us/step - loss: 0.5515 - acc: 0.7187\n",
            "Epoch 34/150\n",
            "768/768 [==============================] - 0s 124us/step - loss: 0.5475 - acc: 0.7331\n",
            "Epoch 35/150\n",
            "768/768 [==============================] - 0s 134us/step - loss: 0.5496 - acc: 0.7253\n",
            "Epoch 36/150\n",
            "768/768 [==============================] - 0s 138us/step - loss: 0.5648 - acc: 0.7057\n",
            "Epoch 37/150\n",
            "768/768 [==============================] - 0s 121us/step - loss: 0.5346 - acc: 0.7396\n",
            "Epoch 38/150\n",
            "768/768 [==============================] - 0s 130us/step - loss: 0.5384 - acc: 0.7292\n",
            "Epoch 39/150\n",
            "768/768 [==============================] - 0s 150us/step - loss: 0.5465 - acc: 0.7201\n",
            "Epoch 40/150\n",
            "768/768 [==============================] - 0s 131us/step - loss: 0.5437 - acc: 0.7227\n",
            "Epoch 41/150\n",
            "768/768 [==============================] - 0s 125us/step - loss: 0.5422 - acc: 0.7357\n",
            "Epoch 42/150\n",
            "768/768 [==============================] - 0s 136us/step - loss: 0.5363 - acc: 0.7448\n",
            "Epoch 43/150\n",
            "768/768 [==============================] - 0s 127us/step - loss: 0.5298 - acc: 0.7435\n",
            "Epoch 44/150\n",
            "768/768 [==============================] - 0s 144us/step - loss: 0.5341 - acc: 0.7474\n",
            "Epoch 45/150\n",
            "768/768 [==============================] - 0s 124us/step - loss: 0.5322 - acc: 0.7617\n",
            "Epoch 46/150\n",
            "768/768 [==============================] - 0s 119us/step - loss: 0.5275 - acc: 0.7526\n",
            "Epoch 47/150\n",
            "768/768 [==============================] - 0s 128us/step - loss: 0.5308 - acc: 0.7422\n",
            "Epoch 48/150\n",
            "768/768 [==============================] - 0s 129us/step - loss: 0.5329 - acc: 0.7422\n",
            "Epoch 49/150\n",
            "768/768 [==============================] - 0s 133us/step - loss: 0.5322 - acc: 0.7565\n",
            "Epoch 50/150\n",
            "768/768 [==============================] - 0s 124us/step - loss: 0.5264 - acc: 0.7422\n",
            "Epoch 51/150\n",
            "768/768 [==============================] - 0s 127us/step - loss: 0.5275 - acc: 0.7474\n",
            "Epoch 52/150\n",
            "768/768 [==============================] - 0s 127us/step - loss: 0.5322 - acc: 0.7448\n",
            "Epoch 53/150\n",
            "768/768 [==============================] - 0s 124us/step - loss: 0.5410 - acc: 0.7448\n",
            "Epoch 54/150\n",
            "768/768 [==============================] - 0s 141us/step - loss: 0.5376 - acc: 0.7227\n",
            "Epoch 55/150\n",
            "768/768 [==============================] - 0s 134us/step - loss: 0.5211 - acc: 0.7500\n",
            "Epoch 56/150\n",
            "768/768 [==============================] - 0s 120us/step - loss: 0.5279 - acc: 0.7448\n",
            "Epoch 57/150\n",
            "768/768 [==============================] - 0s 128us/step - loss: 0.5308 - acc: 0.7279\n",
            "Epoch 58/150\n",
            "768/768 [==============================] - 0s 122us/step - loss: 0.5203 - acc: 0.7526\n",
            "Epoch 59/150\n",
            "768/768 [==============================] - 0s 123us/step - loss: 0.5119 - acc: 0.7682\n",
            "Epoch 60/150\n",
            "768/768 [==============================] - 0s 125us/step - loss: 0.5350 - acc: 0.7448\n",
            "Epoch 61/150\n",
            "768/768 [==============================] - 0s 123us/step - loss: 0.5229 - acc: 0.7474\n",
            "Epoch 62/150\n",
            "768/768 [==============================] - 0s 130us/step - loss: 0.5156 - acc: 0.7617\n",
            "Epoch 63/150\n",
            "768/768 [==============================] - 0s 129us/step - loss: 0.5422 - acc: 0.7344\n",
            "Epoch 64/150\n",
            "768/768 [==============================] - 0s 118us/step - loss: 0.5308 - acc: 0.7461\n",
            "Epoch 65/150\n",
            "768/768 [==============================] - 0s 122us/step - loss: 0.5191 - acc: 0.7565\n",
            "Epoch 66/150\n",
            "768/768 [==============================] - 0s 126us/step - loss: 0.5052 - acc: 0.7565\n",
            "Epoch 67/150\n",
            "768/768 [==============================] - 0s 135us/step - loss: 0.5146 - acc: 0.7396\n",
            "Epoch 68/150\n",
            "768/768 [==============================] - 0s 126us/step - loss: 0.5115 - acc: 0.7578\n",
            "Epoch 69/150\n",
            "768/768 [==============================] - 0s 130us/step - loss: 0.5115 - acc: 0.7461\n",
            "Epoch 70/150\n",
            "768/768 [==============================] - 0s 135us/step - loss: 0.5340 - acc: 0.7227\n",
            "Epoch 71/150\n",
            "768/768 [==============================] - 0s 127us/step - loss: 0.5172 - acc: 0.7474\n",
            "Epoch 72/150\n",
            "768/768 [==============================] - 0s 129us/step - loss: 0.5140 - acc: 0.7591\n",
            "Epoch 73/150\n",
            "768/768 [==============================] - 0s 137us/step - loss: 0.5146 - acc: 0.7500\n",
            "Epoch 74/150\n",
            "768/768 [==============================] - 0s 138us/step - loss: 0.5083 - acc: 0.7643\n",
            "Epoch 75/150\n",
            "768/768 [==============================] - 0s 132us/step - loss: 0.5092 - acc: 0.7630\n",
            "Epoch 76/150\n",
            "768/768 [==============================] - 0s 134us/step - loss: 0.5113 - acc: 0.7565\n",
            "Epoch 77/150\n",
            "768/768 [==============================] - 0s 128us/step - loss: 0.5131 - acc: 0.7604\n",
            "Epoch 78/150\n",
            "768/768 [==============================] - 0s 139us/step - loss: 0.5099 - acc: 0.7513\n",
            "Epoch 79/150\n",
            "768/768 [==============================] - 0s 130us/step - loss: 0.5110 - acc: 0.7474\n",
            "Epoch 80/150\n",
            "768/768 [==============================] - 0s 128us/step - loss: 0.5066 - acc: 0.7669\n",
            "Epoch 81/150\n",
            "768/768 [==============================] - 0s 133us/step - loss: 0.5014 - acc: 0.7773\n",
            "Epoch 82/150\n",
            "768/768 [==============================] - 0s 126us/step - loss: 0.5005 - acc: 0.7604\n",
            "Epoch 83/150\n",
            "768/768 [==============================] - 0s 129us/step - loss: 0.4988 - acc: 0.7656\n",
            "Epoch 84/150\n",
            "768/768 [==============================] - 0s 123us/step - loss: 0.4943 - acc: 0.7604\n",
            "Epoch 85/150\n",
            "768/768 [==============================] - 0s 129us/step - loss: 0.5037 - acc: 0.7500\n",
            "Epoch 86/150\n",
            "768/768 [==============================] - 0s 140us/step - loss: 0.5058 - acc: 0.7565\n",
            "Epoch 87/150\n",
            "768/768 [==============================] - 0s 130us/step - loss: 0.4966 - acc: 0.7604\n",
            "Epoch 88/150\n",
            "768/768 [==============================] - 0s 122us/step - loss: 0.4969 - acc: 0.7630\n",
            "Epoch 89/150\n",
            "768/768 [==============================] - 0s 128us/step - loss: 0.5030 - acc: 0.7734\n",
            "Epoch 90/150\n",
            "768/768 [==============================] - 0s 124us/step - loss: 0.5087 - acc: 0.7513\n",
            "Epoch 91/150\n",
            "768/768 [==============================] - 0s 123us/step - loss: 0.4973 - acc: 0.7682\n",
            "Epoch 92/150\n",
            "768/768 [==============================] - 0s 123us/step - loss: 0.5040 - acc: 0.7539\n",
            "Epoch 93/150\n",
            "768/768 [==============================] - 0s 122us/step - loss: 0.4965 - acc: 0.7630\n",
            "Epoch 94/150\n",
            "768/768 [==============================] - 0s 117us/step - loss: 0.4960 - acc: 0.7708\n",
            "Epoch 95/150\n",
            "768/768 [==============================] - 0s 119us/step - loss: 0.5000 - acc: 0.7513\n",
            "Epoch 96/150\n",
            "768/768 [==============================] - 0s 119us/step - loss: 0.4886 - acc: 0.7773\n",
            "Epoch 97/150\n",
            "768/768 [==============================] - 0s 118us/step - loss: 0.4952 - acc: 0.7812\n",
            "Epoch 98/150\n",
            "768/768 [==============================] - 0s 121us/step - loss: 0.4871 - acc: 0.7682\n",
            "Epoch 99/150\n",
            "768/768 [==============================] - 0s 125us/step - loss: 0.4880 - acc: 0.7747\n",
            "Epoch 100/150\n",
            "768/768 [==============================] - 0s 117us/step - loss: 0.4838 - acc: 0.7812\n",
            "Epoch 101/150\n",
            "768/768 [==============================] - 0s 113us/step - loss: 0.4883 - acc: 0.7760\n",
            "Epoch 102/150\n",
            "768/768 [==============================] - 0s 128us/step - loss: 0.4970 - acc: 0.7552\n",
            "Epoch 103/150\n",
            "768/768 [==============================] - 0s 126us/step - loss: 0.4964 - acc: 0.7617\n",
            "Epoch 104/150\n",
            "768/768 [==============================] - 0s 136us/step - loss: 0.4905 - acc: 0.7852\n",
            "Epoch 105/150\n",
            "768/768 [==============================] - 0s 128us/step - loss: 0.5299 - acc: 0.7474\n",
            "Epoch 106/150\n",
            "768/768 [==============================] - 0s 121us/step - loss: 0.4900 - acc: 0.7773\n",
            "Epoch 107/150\n",
            "768/768 [==============================] - 0s 129us/step - loss: 0.4881 - acc: 0.7708\n",
            "Epoch 108/150\n",
            "768/768 [==============================] - 0s 126us/step - loss: 0.5024 - acc: 0.7643\n",
            "Epoch 109/150\n",
            "768/768 [==============================] - 0s 125us/step - loss: 0.4857 - acc: 0.7617\n",
            "Epoch 110/150\n",
            "768/768 [==============================] - 0s 127us/step - loss: 0.4852 - acc: 0.7669\n",
            "Epoch 111/150\n",
            "768/768 [==============================] - 0s 124us/step - loss: 0.4824 - acc: 0.7812\n",
            "Epoch 112/150\n",
            "768/768 [==============================] - 0s 130us/step - loss: 0.4901 - acc: 0.7799\n",
            "Epoch 113/150\n",
            "768/768 [==============================] - 0s 128us/step - loss: 0.4979 - acc: 0.7552\n",
            "Epoch 114/150\n",
            "768/768 [==============================] - 0s 138us/step - loss: 0.4879 - acc: 0.7630\n",
            "Epoch 115/150\n",
            "768/768 [==============================] - 0s 125us/step - loss: 0.4898 - acc: 0.7656\n",
            "Epoch 116/150\n",
            "768/768 [==============================] - 0s 121us/step - loss: 0.4907 - acc: 0.7695\n",
            "Epoch 117/150\n",
            "768/768 [==============================] - 0s 118us/step - loss: 0.4884 - acc: 0.7656\n",
            "Epoch 118/150\n",
            "768/768 [==============================] - 0s 127us/step - loss: 0.4877 - acc: 0.7826\n",
            "Epoch 119/150\n",
            "768/768 [==============================] - 0s 129us/step - loss: 0.4826 - acc: 0.7630\n",
            "Epoch 120/150\n",
            "768/768 [==============================] - 0s 114us/step - loss: 0.4930 - acc: 0.7734\n",
            "Epoch 121/150\n",
            "768/768 [==============================] - 0s 117us/step - loss: 0.4910 - acc: 0.7747\n",
            "Epoch 122/150\n",
            "768/768 [==============================] - 0s 120us/step - loss: 0.4827 - acc: 0.7812\n",
            "Epoch 123/150\n",
            "768/768 [==============================] - 0s 125us/step - loss: 0.4801 - acc: 0.7656\n",
            "Epoch 124/150\n",
            "768/768 [==============================] - 0s 124us/step - loss: 0.4826 - acc: 0.7747\n",
            "Epoch 125/150\n",
            "768/768 [==============================] - 0s 120us/step - loss: 0.4839 - acc: 0.7852\n",
            "Epoch 126/150\n",
            "768/768 [==============================] - 0s 120us/step - loss: 0.4786 - acc: 0.7682\n",
            "Epoch 127/150\n",
            "768/768 [==============================] - 0s 143us/step - loss: 0.4857 - acc: 0.7682\n",
            "Epoch 128/150\n",
            "768/768 [==============================] - 0s 125us/step - loss: 0.4693 - acc: 0.7747\n",
            "Epoch 129/150\n",
            "768/768 [==============================] - 0s 124us/step - loss: 0.4806 - acc: 0.7682\n",
            "Epoch 130/150\n",
            "768/768 [==============================] - 0s 127us/step - loss: 0.4694 - acc: 0.7878\n",
            "Epoch 131/150\n",
            "768/768 [==============================] - 0s 128us/step - loss: 0.4816 - acc: 0.7708\n",
            "Epoch 132/150\n",
            "768/768 [==============================] - 0s 126us/step - loss: 0.4789 - acc: 0.7799\n",
            "Epoch 133/150\n",
            "768/768 [==============================] - 0s 124us/step - loss: 0.4798 - acc: 0.7721\n",
            "Epoch 134/150\n",
            "768/768 [==============================] - 0s 125us/step - loss: 0.4822 - acc: 0.7786\n",
            "Epoch 135/150\n",
            "768/768 [==============================] - 0s 143us/step - loss: 0.4724 - acc: 0.7708\n",
            "Epoch 136/150\n",
            "768/768 [==============================] - 0s 134us/step - loss: 0.4691 - acc: 0.7826\n",
            "Epoch 137/150\n",
            "768/768 [==============================] - 0s 120us/step - loss: 0.4661 - acc: 0.7826\n",
            "Epoch 138/150\n",
            "768/768 [==============================] - 0s 131us/step - loss: 0.4755 - acc: 0.7917\n",
            "Epoch 139/150\n",
            "768/768 [==============================] - 0s 121us/step - loss: 0.4629 - acc: 0.7799\n",
            "Epoch 140/150\n",
            "768/768 [==============================] - 0s 129us/step - loss: 0.4780 - acc: 0.7786\n",
            "Epoch 141/150\n",
            "768/768 [==============================] - 0s 132us/step - loss: 0.4677 - acc: 0.7865\n",
            "Epoch 142/150\n",
            "768/768 [==============================] - 0s 123us/step - loss: 0.4798 - acc: 0.7708\n",
            "Epoch 143/150\n",
            "768/768 [==============================] - 0s 134us/step - loss: 0.4708 - acc: 0.7852\n",
            "Epoch 144/150\n",
            "768/768 [==============================] - 0s 115us/step - loss: 0.4708 - acc: 0.7891\n",
            "Epoch 145/150\n",
            "768/768 [==============================] - 0s 117us/step - loss: 0.4892 - acc: 0.7591\n",
            "Epoch 146/150\n",
            "768/768 [==============================] - 0s 128us/step - loss: 0.4885 - acc: 0.7695\n",
            "Epoch 147/150\n",
            "768/768 [==============================] - 0s 124us/step - loss: 0.4787 - acc: 0.7826\n",
            "Epoch 148/150\n",
            "768/768 [==============================] - 0s 120us/step - loss: 0.4680 - acc: 0.7786\n",
            "Epoch 149/150\n",
            "768/768 [==============================] - 0s 117us/step - loss: 0.4707 - acc: 0.7643\n",
            "Epoch 150/150\n",
            "768/768 [==============================] - 0s 113us/step - loss: 0.4769 - acc: 0.7773\n"
          ],
          "name": "stdout"
        },
        {
          "output_type": "execute_result",
          "data": {
            "text/plain": [
              "<keras.callbacks.History at 0x7fa8ef65f710>"
            ]
          },
          "metadata": {
            "tags": []
          },
          "execution_count": 13
        }
      ]
    },
    {
      "cell_type": "code",
      "metadata": {
        "id": "3Jhji0exbfB_",
        "colab_type": "code",
        "colab": {
          "base_uri": "https://localhost:8080/",
          "height": 67
        },
        "outputId": "0367e37c-e070-4c5b-855c-151f0d848292"
      },
      "source": [
        "# evaluate the model\n",
        "scores = model.evaluate(X, Y)\n",
        "print(\"\\n%s: %.2f%%\" % (model.metrics_names[1], scores[1]*100))\n"
      ],
      "execution_count": 14,
      "outputs": [
        {
          "output_type": "stream",
          "text": [
            "768/768 [==============================] - 0s 65us/step\n",
            "\n",
            "acc: 78.91%\n"
          ],
          "name": "stdout"
        }
      ]
    },
    {
      "cell_type": "code",
      "metadata": {
        "id": "SpPKwzbcbmww",
        "colab_type": "code",
        "colab": {
          "base_uri": "https://localhost:8080/",
          "height": 296
        },
        "outputId": "8391526c-d60b-49df-cd7a-3ed01c9dd75b"
      },
      "source": [
        "from ann_visualizer.visualize import ann_viz"
      ],
      "execution_count": 15,
      "outputs": [
        {
          "output_type": "error",
          "ename": "ModuleNotFoundError",
          "evalue": "ignored",
          "traceback": [
            "\u001b[0;31m---------------------------------------------------------------------------\u001b[0m",
            "\u001b[0;31mModuleNotFoundError\u001b[0m                       Traceback (most recent call last)",
            "\u001b[0;32m<ipython-input-15-0e35343182ea>\u001b[0m in \u001b[0;36m<module>\u001b[0;34m()\u001b[0m\n\u001b[0;32m----> 1\u001b[0;31m \u001b[0;32mfrom\u001b[0m \u001b[0mann_visualizer\u001b[0m\u001b[0;34m.\u001b[0m\u001b[0mvisualize\u001b[0m \u001b[0;32mimport\u001b[0m \u001b[0mann_viz\u001b[0m\u001b[0;34m\u001b[0m\u001b[0;34m\u001b[0m\u001b[0m\n\u001b[0m",
            "\u001b[0;31mModuleNotFoundError\u001b[0m: No module named 'ann_visualizer'",
            "",
            "\u001b[0;31m---------------------------------------------------------------------------\u001b[0;32m\nNOTE: If your import is failing due to a missing package, you can\nmanually install dependencies using either !pip or !apt.\n\nTo view examples of installing some common dependencies, click the\n\"Open Examples\" button below.\n\u001b[0;31m---------------------------------------------------------------------------\u001b[0m\n"
          ]
        }
      ]
    },
    {
      "cell_type": "code",
      "metadata": {
        "id": "EzzSO6adb_Hb",
        "colab_type": "code",
        "colab": {
          "base_uri": "https://localhost:8080/",
          "height": 168
        },
        "outputId": "fbe5dccb-c0ca-4c8c-ab03-c5d207ac8f84"
      },
      "source": [
        "!pip3 install ann_visualizer"
      ],
      "execution_count": 16,
      "outputs": [
        {
          "output_type": "stream",
          "text": [
            "Collecting ann_visualizer\n",
            "  Downloading https://files.pythonhosted.org/packages/db/51/157be500337fba347e32711aaf9f11c1ba9e1162f486a1d708b4ae594ea4/ann_visualizer-2.5.tar.gz\n",
            "Building wheels for collected packages: ann-visualizer\n",
            "  Building wheel for ann-visualizer (setup.py) ... \u001b[?25l\u001b[?25hdone\n",
            "  Created wheel for ann-visualizer: filename=ann_visualizer-2.5-cp36-none-any.whl size=4168 sha256=d261e3a884578ec214c6bfcf7dcfec9e62d813f07c6c823a10f54fb23ef7c54b\n",
            "  Stored in directory: /root/.cache/pip/wheels/b6/b4/4e/d92f50c9c4f004cf315a0e0fcd455486bd799c50fe80cf1f5d\n",
            "Successfully built ann-visualizer\n",
            "Installing collected packages: ann-visualizer\n",
            "Successfully installed ann-visualizer-2.5\n"
          ],
          "name": "stdout"
        }
      ]
    },
    {
      "cell_type": "code",
      "metadata": {
        "id": "EJfXLjS1cLwY",
        "colab_type": "code",
        "colab": {
          "base_uri": "https://localhost:8080/",
          "height": 34
        },
        "outputId": "c874b791-809e-43c3-9272-073301773200"
      },
      "source": [
        "!pip install graphviz"
      ],
      "execution_count": 17,
      "outputs": [
        {
          "output_type": "stream",
          "text": [
            "Requirement already satisfied: graphviz in /usr/local/lib/python3.6/dist-packages (0.10.1)\n"
          ],
          "name": "stdout"
        }
      ]
    },
    {
      "cell_type": "code",
      "metadata": {
        "id": "5J98RPi5cSsy",
        "colab_type": "code",
        "colab": {}
      },
      "source": [
        "from ann_visualizer.visualize import ann_viz"
      ],
      "execution_count": 0,
      "outputs": []
    },
    {
      "cell_type": "code",
      "metadata": {
        "id": "A3wgP6MpcW60",
        "colab_type": "code",
        "colab": {}
      },
      "source": [
        "ann_viz(model, title=\"My full fledged neural network graph.gv\")"
      ],
      "execution_count": 0,
      "outputs": []
    },
    {
      "cell_type": "code",
      "metadata": {
        "id": "-RspJSpQdV4K",
        "colab_type": "code",
        "colab": {
          "base_uri": "https://localhost:8080/",
          "height": 1000
        },
        "outputId": "6cc46173-942f-4e97-84df-7c033c609ae2"
      },
      "source": [
        "from graphviz import Source\n",
        "Source.from_file('network.gv')"
      ],
      "execution_count": 23,
      "outputs": [
        {
          "output_type": "execute_result",
          "data": {
            "text/plain": [
              "<graphviz.files.Source at 0x7fa8e99f5c50>"
            ],
            "image/svg+xml": "<?xml version=\"1.0\" encoding=\"UTF-8\" standalone=\"no\"?>\n<!DOCTYPE svg PUBLIC \"-//W3C//DTD SVG 1.1//EN\"\n \"http://www.w3.org/Graphics/SVG/1.1/DTD/svg11.dtd\">\n<!-- Generated by graphviz version 2.40.1 (20161225.0304)\n -->\n<!-- Title: g Pages: 1 -->\n<svg width=\"1100pt\" height=\"742pt\"\n viewBox=\"0.00 0.00 1100.00 741.79\" xmlns=\"http://www.w3.org/2000/svg\" xmlns:xlink=\"http://www.w3.org/1999/xlink\">\n<g id=\"graph0\" class=\"graph\" transform=\"scale(1 1) rotate(0) translate(4 737.7889)\">\n<title>g</title>\n<polygon fill=\"#ffffff\" stroke=\"transparent\" points=\"-4,4 -4,-737.7889 1096,-737.7889 1096,4 -4,4\"/>\n<g id=\"clust1\" class=\"cluster\">\n<title>cluster_input</title>\n<polygon fill=\"none\" stroke=\"#ffffff\" points=\"140,-587.7889 140,-725.7889 948,-725.7889 948,-587.7889 140,-587.7889\"/>\n<text text-anchor=\"middle\" x=\"544\" y=\"-710.5889\" font-family=\"Times,serif\" font-size=\"14.00\" fill=\"#000000\">My full fledged neural network graph.gv</text>\n<text text-anchor=\"middle\" x=\"544\" y=\"-647.5889\" font-family=\"Times,serif\" font-size=\"14.00\" fill=\"#000000\">Input Layer</text>\n</g>\n<g id=\"clust2\" class=\"cluster\">\n<title>cluster_1</title>\n<polygon fill=\"none\" stroke=\"#ffffff\" points=\"8,-379.1926 8,-459.7889 1084,-459.7889 1084,-379.1926 8,-379.1926\"/>\n<text text-anchor=\"middle\" x=\"1061.5\" y=\"-386.9926\" font-family=\"Times,serif\" font-size=\"14.00\" fill=\"#000000\"> (+2)</text>\n</g>\n<g id=\"clust3\" class=\"cluster\">\n<title>cluster_2</title>\n<polygon fill=\"none\" stroke=\"#ffffff\" points=\"116,-216.5963 116,-274.1926 972,-274.1926 972,-216.5963 116,-216.5963\"/>\n</g>\n<g id=\"clust4\" class=\"cluster\">\n<title>cluster_output</title>\n<polygon fill=\"none\" stroke=\"#ffffff\" points=\"497,-8 497,-88.5963 591,-88.5963 591,-8 497,-8\"/>\n<text text-anchor=\"middle\" x=\"544\" y=\"-15.8\" font-family=\"Times,serif\" font-size=\"14.00\" fill=\"#000000\">Output Layer</text>\n</g>\n<!-- 1 -->\n<g id=\"node1\" class=\"node\">\n<title>1</title>\n<ellipse fill=\"#2ecc71\" stroke=\"#2ecc71\" cx=\"490\" cy=\"-613.7889\" rx=\"18\" ry=\"18\"/>\n<text text-anchor=\"middle\" x=\"490\" y=\"-610.0889\" font-family=\"Times,serif\" font-size=\"14.00\" fill=\"#2ecc71\">1</text>\n</g>\n<!-- 9 -->\n<g id=\"node9\" class=\"node\">\n<title>9</title>\n<ellipse fill=\"#3498db\" stroke=\"#3498db\" cx=\"148\" cy=\"-430.9908\" rx=\"18\" ry=\"18\"/>\n<text text-anchor=\"middle\" x=\"148\" y=\"-427.2908\" font-family=\"Times,serif\" font-size=\"14.00\" fill=\"#3498db\">9</text>\n</g>\n<!-- 1&#45;&gt;9 -->\n<g id=\"edge1\" class=\"edge\">\n<title>1&#45;&gt;9</title>\n<path fill=\"none\" stroke=\"#707070\" d=\"M473.9633,-605.2174C416.5173,-574.5126 221.3925,-470.2189 164.002,-439.5438\"/>\n</g>\n<!-- 10 -->\n<g id=\"node10\" class=\"node\">\n<title>10</title>\n<ellipse fill=\"#3498db\" stroke=\"#3498db\" cx=\"37\" cy=\"-430.9908\" rx=\"20.5982\" ry=\"20.5982\"/>\n<text text-anchor=\"middle\" x=\"37\" y=\"-427.2908\" font-family=\"Times,serif\" font-size=\"14.00\" fill=\"#3498db\">10</text>\n</g>\n<!-- 1&#45;&gt;10 -->\n<g id=\"edge9\" class=\"edge\">\n<title>1&#45;&gt;10</title>\n<path fill=\"none\" stroke=\"#707070\" d=\"M473.0686,-606.9566C402.4757,-578.4704 131.7602,-469.2292 56.5082,-438.8629\"/>\n</g>\n<!-- 11 -->\n<g id=\"node11\" class=\"node\">\n<title>11</title>\n<ellipse fill=\"#3498db\" stroke=\"#3498db\" cx=\"1056\" cy=\"-430.9908\" rx=\"20.2975\" ry=\"20.2975\"/>\n<text text-anchor=\"middle\" x=\"1056\" y=\"-427.2908\" font-family=\"Times,serif\" font-size=\"14.00\" fill=\"#3498db\">11</text>\n</g>\n<!-- 1&#45;&gt;11 -->\n<g id=\"edge17\" class=\"edge\">\n<title>1&#45;&gt;11</title>\n<path fill=\"none\" stroke=\"#707070\" d=\"M507.2483,-608.2183C590.3407,-581.3824 948.9355,-465.5689 1036.6057,-437.2545\"/>\n</g>\n<!-- 12 -->\n<g id=\"node12\" class=\"node\">\n<title>12</title>\n<ellipse fill=\"#3498db\" stroke=\"#3498db\" cx=\"943\" cy=\"-430.9908\" rx=\"20.5982\" ry=\"20.5982\"/>\n<text text-anchor=\"middle\" x=\"943\" y=\"-427.2908\" font-family=\"Times,serif\" font-size=\"14.00\" fill=\"#3498db\">12</text>\n</g>\n<!-- 1&#45;&gt;12 -->\n<g id=\"edge25\" class=\"edge\">\n<title>1&#45;&gt;12</title>\n<path fill=\"none\" stroke=\"#707070\" d=\"M506.9314,-606.9566C577.5243,-578.4704 848.2398,-469.2292 923.4918,-438.8629\"/>\n</g>\n<!-- 13 -->\n<g id=\"node13\" class=\"node\">\n<title>13</title>\n<ellipse fill=\"#3498db\" stroke=\"#3498db\" cx=\"829\" cy=\"-430.9908\" rx=\"20.5982\" ry=\"20.5982\"/>\n<text text-anchor=\"middle\" x=\"829\" y=\"-427.2908\" font-family=\"Times,serif\" font-size=\"14.00\" fill=\"#3498db\">13</text>\n</g>\n<!-- 1&#45;&gt;13 -->\n<g id=\"edge33\" class=\"edge\">\n<title>1&#45;&gt;13</title>\n<path fill=\"none\" stroke=\"#707070\" d=\"M505.896,-605.2174C561.9218,-575.0067 750.0618,-473.5564 810.2872,-441.0812\"/>\n</g>\n<!-- 14 -->\n<g id=\"node14\" class=\"node\">\n<title>14</title>\n<ellipse fill=\"#3498db\" stroke=\"#3498db\" cx=\"715\" cy=\"-430.9908\" rx=\"20.5982\" ry=\"20.5982\"/>\n<text text-anchor=\"middle\" x=\"715\" y=\"-427.2908\" font-family=\"Times,serif\" font-size=\"14.00\" fill=\"#3498db\">14</text>\n</g>\n<!-- 1&#45;&gt;14 -->\n<g id=\"edge41\" class=\"edge\">\n<title>1&#45;&gt;14</title>\n<path fill=\"none\" stroke=\"#707070\" d=\"M504.0748,-602.3541C543.8083,-570.0732 656.683,-478.3696 698.8482,-444.1131\"/>\n</g>\n<!-- 15 -->\n<g id=\"node15\" class=\"node\">\n<title>15</title>\n<ellipse fill=\"#3498db\" stroke=\"#3498db\" cx=\"601\" cy=\"-430.9908\" rx=\"20.5982\" ry=\"20.5982\"/>\n<text text-anchor=\"middle\" x=\"601\" y=\"-427.2908\" font-family=\"Times,serif\" font-size=\"14.00\" fill=\"#3498db\">15</text>\n</g>\n<!-- 1&#45;&gt;15 -->\n<g id=\"edge49\" class=\"edge\">\n<title>1&#45;&gt;15</title>\n<path fill=\"none\" stroke=\"#707070\" d=\"M499.4638,-598.2037C519.963,-564.445 568.3682,-484.7297 590.1024,-448.9373\"/>\n</g>\n<!-- 16 -->\n<g id=\"node16\" class=\"node\">\n<title>16</title>\n<ellipse fill=\"#3498db\" stroke=\"#3498db\" cx=\"487\" cy=\"-430.9908\" rx=\"20.5982\" ry=\"20.5982\"/>\n<text text-anchor=\"middle\" x=\"487\" y=\"-427.2908\" font-family=\"Times,serif\" font-size=\"14.00\" fill=\"#3498db\">16</text>\n</g>\n<!-- 1&#45;&gt;16 -->\n<g id=\"edge57\" class=\"edge\">\n<title>1&#45;&gt;16</title>\n<path fill=\"none\" stroke=\"#707070\" d=\"M489.7014,-595.5932C489.1412,-561.4576 487.9357,-488.0073 487.3431,-451.8988\"/>\n</g>\n<!-- 17 -->\n<g id=\"node17\" class=\"node\">\n<title>17</title>\n<ellipse fill=\"#3498db\" stroke=\"#3498db\" cx=\"373\" cy=\"-430.9908\" rx=\"20.5982\" ry=\"20.5982\"/>\n<text text-anchor=\"middle\" x=\"373\" y=\"-427.2908\" font-family=\"Times,serif\" font-size=\"14.00\" fill=\"#3498db\">17</text>\n</g>\n<!-- 1&#45;&gt;17 -->\n<g id=\"edge65\" class=\"edge\">\n<title>1&#45;&gt;17</title>\n<path fill=\"none\" stroke=\"#707070\" d=\"M480.2259,-598.5181C458.6967,-564.8814 407.2802,-484.5494 384.3614,-448.7416\"/>\n</g>\n<!-- 18 -->\n<g id=\"node18\" class=\"node\">\n<title>18</title>\n<ellipse fill=\"#3498db\" stroke=\"#3498db\" cx=\"259\" cy=\"-430.9908\" rx=\"20.5982\" ry=\"20.5982\"/>\n<text text-anchor=\"middle\" x=\"259\" y=\"-427.2908\" font-family=\"Times,serif\" font-size=\"14.00\" fill=\"#3498db\">18</text>\n</g>\n<!-- 1&#45;&gt;18 -->\n<g id=\"edge73\" class=\"edge\">\n<title>1&#45;&gt;18</title>\n<path fill=\"none\" stroke=\"#707070\" d=\"M475.5499,-602.3541C434.7569,-570.0732 318.8721,-478.3696 275.5825,-444.1131\"/>\n</g>\n<!-- 2 -->\n<g id=\"node2\" class=\"node\">\n<title>2</title>\n<ellipse fill=\"#2ecc71\" stroke=\"#2ecc71\" cx=\"382\" cy=\"-613.7889\" rx=\"18\" ry=\"18\"/>\n<text text-anchor=\"middle\" x=\"382\" y=\"-610.0889\" font-family=\"Times,serif\" font-size=\"14.00\" fill=\"#2ecc71\">2</text>\n</g>\n<!-- 2&#45;&gt;9 -->\n<g id=\"edge2\" class=\"edge\">\n<title>2&#45;&gt;9</title>\n<path fill=\"none\" stroke=\"#707070\" d=\"M367.7145,-602.6293C325.9394,-569.995 204.3112,-474.9805 162.3959,-442.2367\"/>\n</g>\n<!-- 2&#45;&gt;10 -->\n<g id=\"edge10\" class=\"edge\">\n<title>2&#45;&gt;10</title>\n<path fill=\"none\" stroke=\"#707070\" d=\"M365.8227,-605.2174C308.672,-574.9361 116.4399,-473.082 55.6165,-440.8547\"/>\n</g>\n<!-- 2&#45;&gt;11 -->\n<g id=\"edge18\" class=\"edge\">\n<title>2&#45;&gt;11</title>\n<path fill=\"none\" stroke=\"#707070\" d=\"M399.6814,-608.9935C493.9777,-583.419 937.0891,-463.2411 1036.2715,-436.3414\"/>\n</g>\n<!-- 2&#45;&gt;12 -->\n<g id=\"edge26\" class=\"edge\">\n<title>2&#45;&gt;12</title>\n<path fill=\"none\" stroke=\"#707070\" d=\"M399.4048,-608.1177C482.0743,-581.1804 834.7293,-466.2701 922.9382,-437.5278\"/>\n</g>\n<!-- 2&#45;&gt;13 -->\n<g id=\"edge34\" class=\"edge\">\n<title>2&#45;&gt;13</title>\n<path fill=\"none\" stroke=\"#707070\" d=\"M398.7071,-606.9566C468.2858,-578.5028 734.8873,-469.4776 809.496,-438.9668\"/>\n</g>\n<!-- 2&#45;&gt;14 -->\n<g id=\"edge42\" class=\"edge\">\n<title>2&#45;&gt;14</title>\n<path fill=\"none\" stroke=\"#707070\" d=\"M398.0613,-604.9722C453.6662,-574.4483 637.7807,-473.3798 696.6966,-441.0383\"/>\n</g>\n<!-- 2&#45;&gt;15 -->\n<g id=\"edge50\" class=\"edge\">\n<title>2&#45;&gt;15</title>\n<path fill=\"none\" stroke=\"#707070\" d=\"M396.0326,-602.076C434.8332,-569.6893 543.4181,-479.0541 584.7483,-444.556\"/>\n</g>\n<!-- 2&#45;&gt;16 -->\n<g id=\"edge58\" class=\"edge\">\n<title>2&#45;&gt;16</title>\n<path fill=\"none\" stroke=\"#707070\" d=\"M391.1344,-597.8866C410.5931,-564.0101 456.0304,-484.9068 476.5793,-449.1326\"/>\n</g>\n<!-- 2&#45;&gt;17 -->\n<g id=\"edge66\" class=\"edge\">\n<title>2&#45;&gt;17</title>\n<path fill=\"none\" stroke=\"#707070\" d=\"M381.1041,-595.5932C379.4235,-561.4576 375.8072,-488.0073 374.0294,-451.8988\"/>\n</g>\n<!-- 2&#45;&gt;18 -->\n<g id=\"edge74\" class=\"edge\">\n<title>2&#45;&gt;18</title>\n<path fill=\"none\" stroke=\"#707070\" d=\"M371.9344,-598.8298C349.3286,-565.2339 294.6373,-483.9536 270.6287,-448.2729\"/>\n</g>\n<!-- 3 -->\n<g id=\"node3\" class=\"node\">\n<title>3</title>\n<ellipse fill=\"#2ecc71\" stroke=\"#2ecc71\" cx=\"274\" cy=\"-613.7889\" rx=\"18\" ry=\"18\"/>\n<text text-anchor=\"middle\" x=\"274\" y=\"-610.0889\" font-family=\"Times,serif\" font-size=\"14.00\" fill=\"#2ecc71\">3</text>\n</g>\n<!-- 3&#45;&gt;9 -->\n<g id=\"edge3\" class=\"edge\">\n<title>3&#45;&gt;9</title>\n<path fill=\"none\" stroke=\"#707070\" d=\"M263.6889,-598.8298C240.0028,-564.4665 181.9298,-480.2154 158.2769,-445.9002\"/>\n</g>\n<!-- 3&#45;&gt;10 -->\n<g id=\"edge11\" class=\"edge\">\n<title>3&#45;&gt;10</title>\n<path fill=\"none\" stroke=\"#707070\" d=\"M259.5314,-602.6293C217.9242,-570.5376 98.1073,-478.1229 53.7642,-443.921\"/>\n</g>\n<!-- 3&#45;&gt;11 -->\n<g id=\"edge19\" class=\"edge\">\n<title>3&#45;&gt;11</title>\n<path fill=\"none\" stroke=\"#707070\" d=\"M291.8024,-609.6275C396.0404,-585.2611 926.4227,-461.2804 1036.1262,-435.6364\"/>\n</g>\n<!-- 3&#45;&gt;12 -->\n<g id=\"edge27\" class=\"edge\">\n<title>3&#45;&gt;12</title>\n<path fill=\"none\" stroke=\"#707070\" d=\"M291.5503,-608.9935C384.9408,-583.4754 823.0354,-463.77 922.7624,-436.5205\"/>\n</g>\n<!-- 3&#45;&gt;13 -->\n<g id=\"edge35\" class=\"edge\">\n<title>3&#45;&gt;13</title>\n<path fill=\"none\" stroke=\"#707070\" d=\"M291.2186,-608.1177C373.004,-581.1804 721.8872,-466.2701 809.1527,-437.5278\"/>\n</g>\n<!-- 3&#45;&gt;14 -->\n<g id=\"edge43\" class=\"edge\">\n<title>3&#45;&gt;14</title>\n<path fill=\"none\" stroke=\"#707070\" d=\"M290.7492,-606.8462C359.7393,-578.2493 621.7443,-469.6461 695.5466,-439.0544\"/>\n</g>\n<!-- 3&#45;&gt;15 -->\n<g id=\"edge51\" class=\"edge\">\n<title>3&#45;&gt;15</title>\n<path fill=\"none\" stroke=\"#707070\" d=\"M289.7719,-604.9722C344.2473,-574.5196 524.3279,-473.8517 582.6189,-441.2661\"/>\n</g>\n<!-- 3&#45;&gt;16 -->\n<g id=\"edge59\" class=\"edge\">\n<title>3&#45;&gt;16</title>\n<path fill=\"none\" stroke=\"#707070\" d=\"M287.9755,-601.795C325.922,-569.2291 430.7194,-479.2912 470.9686,-444.7491\"/>\n</g>\n<!-- 3&#45;&gt;17 -->\n<g id=\"edge67\" class=\"edge\">\n<title>3&#45;&gt;17</title>\n<path fill=\"none\" stroke=\"#707070\" d=\"M282.6124,-597.8866C300.9122,-564.097 343.5806,-485.3122 363.0253,-449.4086\"/>\n</g>\n<!-- 3&#45;&gt;18 -->\n<g id=\"edge75\" class=\"edge\">\n<title>3&#45;&gt;18</title>\n<path fill=\"none\" stroke=\"#707070\" d=\"M272.5069,-595.5932C269.7058,-561.4576 263.6786,-488.0073 260.7157,-451.8988\"/>\n</g>\n<!-- 4 -->\n<g id=\"node4\" class=\"node\">\n<title>4</title>\n<ellipse fill=\"#2ecc71\" stroke=\"#2ecc71\" cx=\"166\" cy=\"-613.7889\" rx=\"18\" ry=\"18\"/>\n<text text-anchor=\"middle\" x=\"166\" y=\"-610.0889\" font-family=\"Times,serif\" font-size=\"14.00\" fill=\"#2ecc71\">4</text>\n</g>\n<!-- 4&#45;&gt;9 -->\n<g id=\"edge4\" class=\"edge\">\n<title>4&#45;&gt;9</title>\n<path fill=\"none\" stroke=\"#707070\" d=\"M164.2083,-595.5932C160.758,-560.5545 153.229,-484.0935 149.7845,-449.1129\"/>\n</g>\n<!-- 4&#45;&gt;10 -->\n<g id=\"edge12\" class=\"edge\">\n<title>4&#45;&gt;10</title>\n<path fill=\"none\" stroke=\"#707070\" d=\"M155.4434,-598.8298C131.6747,-565.1487 74.0843,-483.5407 49.0048,-448.0021\"/>\n</g>\n<!-- 4&#45;&gt;11 -->\n<g id=\"edge20\" class=\"edge\">\n<title>4&#45;&gt;11</title>\n<path fill=\"none\" stroke=\"#707070\" d=\"M183.7781,-610.1375C296.965,-586.8899 916.0691,-459.7313 1035.9085,-435.1174\"/>\n</g>\n<!-- 4&#45;&gt;12 -->\n<g id=\"edge28\" class=\"edge\">\n<title>4&#45;&gt;12</title>\n<path fill=\"none\" stroke=\"#707070\" d=\"M183.6886,-609.6275C287.0342,-585.3142 811.9545,-461.8207 922.5341,-435.8056\"/>\n</g>\n<!-- 4&#45;&gt;13 -->\n<g id=\"edge36\" class=\"edge\">\n<title>4&#45;&gt;13</title>\n<path fill=\"none\" stroke=\"#707070\" d=\"M183.3929,-608.9935C275.9459,-583.4754 710.1113,-463.77 808.9439,-436.5205\"/>\n</g>\n<!-- 4&#45;&gt;14 -->\n<g id=\"edge44\" class=\"edge\">\n<title>4&#45;&gt;14</title>\n<path fill=\"none\" stroke=\"#707070\" d=\"M183.3372,-608.0162C264.7182,-580.9192 608.4924,-466.4542 695.1183,-437.6107\"/>\n</g>\n<!-- 4&#45;&gt;15 -->\n<g id=\"edge52\" class=\"edge\">\n<title>4&#45;&gt;15</title>\n<path fill=\"none\" stroke=\"#707070\" d=\"M182.786,-606.735C251.1747,-577.9963 508.6148,-469.8134 581.6025,-439.1421\"/>\n</g>\n<!-- 4&#45;&gt;16 -->\n<g id=\"edge60\" class=\"edge\">\n<title>4&#45;&gt;16</title>\n<path fill=\"none\" stroke=\"#707070\" d=\"M181.9184,-604.7239C235.8101,-574.0346 411.2233,-474.1429 468.6307,-441.4514\"/>\n</g>\n<!-- 4&#45;&gt;17 -->\n<g id=\"edge68\" class=\"edge\">\n<title>4&#45;&gt;17</title>\n<path fill=\"none\" stroke=\"#707070\" d=\"M179.5818,-601.795C216.3694,-569.3085 317.8083,-479.7296 357.1328,-445.0028\"/>\n</g>\n<!-- 4&#45;&gt;18 -->\n<g id=\"edge76\" class=\"edge\">\n<title>4&#45;&gt;18</title>\n<path fill=\"none\" stroke=\"#707070\" d=\"M174.2531,-597.5668C191.5014,-563.6641 231.2762,-485.4839 249.5304,-449.604\"/>\n</g>\n<!-- 5 -->\n<g id=\"node5\" class=\"node\">\n<title>5</title>\n<ellipse fill=\"#2ecc71\" stroke=\"#2ecc71\" cx=\"922\" cy=\"-613.7889\" rx=\"18\" ry=\"18\"/>\n<text text-anchor=\"middle\" x=\"922\" y=\"-610.0889\" font-family=\"Times,serif\" font-size=\"14.00\" fill=\"#2ecc71\">5</text>\n</g>\n<!-- 5&#45;&gt;9 -->\n<g id=\"edge5\" class=\"edge\">\n<title>5&#45;&gt;9</title>\n<path fill=\"none\" stroke=\"#707070\" d=\"M904.3797,-609.6275C800.533,-585.1017 269.3639,-459.6537 165.5928,-435.1457\"/>\n</g>\n<!-- 5&#45;&gt;10 -->\n<g id=\"edge13\" class=\"edge\">\n<title>5&#45;&gt;10</title>\n<path fill=\"none\" stroke=\"#707070\" d=\"M904.3218,-610.1375C792.0144,-586.9402 178.8074,-460.2813 57.7594,-435.2787\"/>\n</g>\n<!-- 5&#45;&gt;11 -->\n<g id=\"edge21\" class=\"edge\">\n<title>5&#45;&gt;11</title>\n<path fill=\"none\" stroke=\"#707070\" d=\"M932.7393,-599.1388C957.457,-565.4197 1018.2283,-482.5176 1044.0651,-447.2719\"/>\n</g>\n<!-- 5&#45;&gt;12 -->\n<g id=\"edge29\" class=\"edge\">\n<title>5&#45;&gt;12</title>\n<path fill=\"none\" stroke=\"#707070\" d=\"M924.0903,-595.5932C928.0119,-561.4576 936.4499,-488.0073 940.5981,-451.8988\"/>\n</g>\n<!-- 5&#45;&gt;13 -->\n<g id=\"edge37\" class=\"edge\">\n<title>5&#45;&gt;13</title>\n<path fill=\"none\" stroke=\"#707070\" d=\"M913.7469,-597.5668C896.4986,-563.6641 856.7238,-485.4839 838.4696,-449.604\"/>\n</g>\n<!-- 5&#45;&gt;14 -->\n<g id=\"edge45\" class=\"edge\">\n<title>5&#45;&gt;14</title>\n<path fill=\"none\" stroke=\"#707070\" d=\"M908.4182,-601.795C871.6306,-569.3085 770.1917,-479.7296 730.8672,-445.0028\"/>\n</g>\n<!-- 5&#45;&gt;15 -->\n<g id=\"edge53\" class=\"edge\">\n<title>5&#45;&gt;15</title>\n<path fill=\"none\" stroke=\"#707070\" d=\"M906.0816,-604.7239C852.1899,-574.0346 676.7767,-474.1429 619.3693,-441.4514\"/>\n</g>\n<!-- 5&#45;&gt;16 -->\n<g id=\"edge61\" class=\"edge\">\n<title>5&#45;&gt;16</title>\n<path fill=\"none\" stroke=\"#707070\" d=\"M905.214,-606.735C836.8253,-577.9963 579.3852,-469.8134 506.3975,-439.1421\"/>\n</g>\n<!-- 5&#45;&gt;17 -->\n<g id=\"edge69\" class=\"edge\">\n<title>5&#45;&gt;17</title>\n<path fill=\"none\" stroke=\"#707070\" d=\"M904.6628,-608.0162C823.2818,-580.9192 479.5076,-466.4542 392.8817,-437.6107\"/>\n</g>\n<!-- 5&#45;&gt;18 -->\n<g id=\"edge77\" class=\"edge\">\n<title>5&#45;&gt;18</title>\n<path fill=\"none\" stroke=\"#707070\" d=\"M904.6071,-608.9935C812.0541,-583.4754 377.8887,-463.77 279.0561,-436.5205\"/>\n</g>\n<!-- 6 -->\n<g id=\"node6\" class=\"node\">\n<title>6</title>\n<ellipse fill=\"#2ecc71\" stroke=\"#2ecc71\" cx=\"814\" cy=\"-613.7889\" rx=\"18\" ry=\"18\"/>\n<text text-anchor=\"middle\" x=\"814\" y=\"-610.0889\" font-family=\"Times,serif\" font-size=\"14.00\" fill=\"#2ecc71\">6</text>\n</g>\n<!-- 6&#45;&gt;9 -->\n<g id=\"edge6\" class=\"edge\">\n<title>6&#45;&gt;9</title>\n<path fill=\"none\" stroke=\"#707070\" d=\"M796.5284,-608.9935C702.7357,-583.25 259.6978,-461.6487 165.5962,-435.8204\"/>\n</g>\n<!-- 6&#45;&gt;10 -->\n<g id=\"edge14\" class=\"edge\">\n<title>6&#45;&gt;10</title>\n<path fill=\"none\" stroke=\"#707070\" d=\"M796.3114,-609.6275C692.9658,-585.3142 168.0455,-461.8207 57.4659,-435.8056\"/>\n</g>\n<!-- 6&#45;&gt;11 -->\n<g id=\"edge22\" class=\"edge\">\n<title>6&#45;&gt;11</title>\n<path fill=\"none\" stroke=\"#707070\" d=\"M828.4135,-602.9015C870.845,-570.8503 995.1254,-476.9733 1039.7843,-443.2396\"/>\n</g>\n<!-- 6&#45;&gt;12 -->\n<g id=\"edge30\" class=\"edge\">\n<title>6&#45;&gt;12</title>\n<path fill=\"none\" stroke=\"#707070\" d=\"M824.5566,-598.8298C848.3253,-565.1487 905.9157,-483.5407 930.9952,-448.0021\"/>\n</g>\n<!-- 6&#45;&gt;13 -->\n<g id=\"edge38\" class=\"edge\">\n<title>6&#45;&gt;13</title>\n<path fill=\"none\" stroke=\"#707070\" d=\"M815.4931,-595.5932C818.2942,-561.4576 824.3214,-488.0073 827.2843,-451.8988\"/>\n</g>\n<!-- 6&#45;&gt;14 -->\n<g id=\"edge46\" class=\"edge\">\n<title>6&#45;&gt;14</title>\n<path fill=\"none\" stroke=\"#707070\" d=\"M805.3876,-597.8866C787.0878,-564.097 744.4194,-485.3122 724.9747,-449.4086\"/>\n</g>\n<!-- 6&#45;&gt;15 -->\n<g id=\"edge54\" class=\"edge\">\n<title>6&#45;&gt;15</title>\n<path fill=\"none\" stroke=\"#707070\" d=\"M800.0245,-601.795C762.078,-569.2291 657.2806,-479.2912 617.0314,-444.7491\"/>\n</g>\n<!-- 6&#45;&gt;16 -->\n<g id=\"edge62\" class=\"edge\">\n<title>6&#45;&gt;16</title>\n<path fill=\"none\" stroke=\"#707070\" d=\"M798.2281,-604.9722C743.7527,-574.5196 563.6721,-473.8517 505.3811,-441.2661\"/>\n</g>\n<!-- 6&#45;&gt;17 -->\n<g id=\"edge70\" class=\"edge\">\n<title>6&#45;&gt;17</title>\n<path fill=\"none\" stroke=\"#707070\" d=\"M797.2508,-606.8462C728.2607,-578.2493 466.2557,-469.6461 392.4534,-439.0544\"/>\n</g>\n<!-- 6&#45;&gt;18 -->\n<g id=\"edge78\" class=\"edge\">\n<title>6&#45;&gt;18</title>\n<path fill=\"none\" stroke=\"#707070\" d=\"M796.7814,-608.1177C714.996,-581.1804 366.1128,-466.2701 278.8473,-437.5278\"/>\n</g>\n<!-- 7 -->\n<g id=\"node7\" class=\"node\">\n<title>7</title>\n<ellipse fill=\"#2ecc71\" stroke=\"#2ecc71\" cx=\"706\" cy=\"-613.7889\" rx=\"18\" ry=\"18\"/>\n<text text-anchor=\"middle\" x=\"706\" y=\"-610.0889\" font-family=\"Times,serif\" font-size=\"14.00\" fill=\"#2ecc71\">7</text>\n</g>\n<!-- 7&#45;&gt;9 -->\n<g id=\"edge7\" class=\"edge\">\n<title>7&#45;&gt;9</title>\n<path fill=\"none\" stroke=\"#707070\" d=\"M688.6883,-608.1177C605.5411,-580.8791 247.811,-463.6884 165.1098,-436.5959\"/>\n</g>\n<!-- 7&#45;&gt;10 -->\n<g id=\"edge15\" class=\"edge\">\n<title>7&#45;&gt;10</title>\n<path fill=\"none\" stroke=\"#707070\" d=\"M688.4497,-608.9935C595.0592,-583.4754 156.9646,-463.77 57.2376,-436.5205\"/>\n</g>\n<!-- 7&#45;&gt;11 -->\n<g id=\"edge23\" class=\"edge\">\n<title>7&#45;&gt;11</title>\n<path fill=\"none\" stroke=\"#707070\" d=\"M722.4118,-605.2174C780.661,-574.7949 977.2302,-472.1307 1037.968,-440.4085\"/>\n</g>\n<!-- 7&#45;&gt;12 -->\n<g id=\"edge31\" class=\"edge\">\n<title>7&#45;&gt;12</title>\n<path fill=\"none\" stroke=\"#707070\" d=\"M720.4686,-602.6293C762.0758,-570.5376 881.8927,-478.1229 926.2358,-443.921\"/>\n</g>\n<!-- 7&#45;&gt;13 -->\n<g id=\"edge39\" class=\"edge\">\n<title>7&#45;&gt;13</title>\n<path fill=\"none\" stroke=\"#707070\" d=\"M716.0656,-598.8298C738.6714,-565.2339 793.3627,-483.9536 817.3713,-448.2729\"/>\n</g>\n<!-- 7&#45;&gt;14 -->\n<g id=\"edge47\" class=\"edge\">\n<title>7&#45;&gt;14</title>\n<path fill=\"none\" stroke=\"#707070\" d=\"M706.8959,-595.5932C708.5765,-561.4576 712.1928,-488.0073 713.9706,-451.8988\"/>\n</g>\n<!-- 7&#45;&gt;15 -->\n<g id=\"edge55\" class=\"edge\">\n<title>7&#45;&gt;15</title>\n<path fill=\"none\" stroke=\"#707070\" d=\"M696.8656,-597.8866C677.4069,-564.0101 631.9696,-484.9068 611.4207,-449.1326\"/>\n</g>\n<!-- 7&#45;&gt;16 -->\n<g id=\"edge63\" class=\"edge\">\n<title>7&#45;&gt;16</title>\n<path fill=\"none\" stroke=\"#707070\" d=\"M691.9674,-602.076C653.1668,-569.6893 544.5819,-479.0541 503.2517,-444.556\"/>\n</g>\n<!-- 7&#45;&gt;17 -->\n<g id=\"edge71\" class=\"edge\">\n<title>7&#45;&gt;17</title>\n<path fill=\"none\" stroke=\"#707070\" d=\"M689.9387,-604.9722C634.3338,-574.4483 450.2193,-473.3798 391.3034,-441.0383\"/>\n</g>\n<!-- 7&#45;&gt;18 -->\n<g id=\"edge79\" class=\"edge\">\n<title>7&#45;&gt;18</title>\n<path fill=\"none\" stroke=\"#707070\" d=\"M689.2929,-606.9566C619.7142,-578.5028 353.1127,-469.4776 278.504,-438.9668\"/>\n</g>\n<!-- 8 -->\n<g id=\"node8\" class=\"node\">\n<title>8</title>\n<ellipse fill=\"#2ecc71\" stroke=\"#2ecc71\" cx=\"598\" cy=\"-613.7889\" rx=\"18\" ry=\"18\"/>\n<text text-anchor=\"middle\" x=\"598\" y=\"-610.0889\" font-family=\"Times,serif\" font-size=\"14.00\" fill=\"#2ecc71\">8</text>\n</g>\n<!-- 8&#45;&gt;9 -->\n<g id=\"edge8\" class=\"edge\">\n<title>8&#45;&gt;9</title>\n<path fill=\"none\" stroke=\"#707070\" d=\"M581.1808,-606.9566C510.3373,-578.1787 236.6049,-466.9837 165.1444,-437.9551\"/>\n</g>\n<!-- 8&#45;&gt;10 -->\n<g id=\"edge16\" class=\"edge\">\n<title>8&#45;&gt;10</title>\n<path fill=\"none\" stroke=\"#707070\" d=\"M580.5952,-608.1177C497.9257,-581.1804 145.2707,-466.2701 57.0618,-437.5278\"/>\n</g>\n<!-- 8&#45;&gt;11 -->\n<g id=\"edge24\" class=\"edge\">\n<title>8&#45;&gt;11</title>\n<path fill=\"none\" stroke=\"#707070\" d=\"M614.8436,-607.0663C686.0953,-578.6281 962.496,-468.3103 1037.2633,-438.469\"/>\n</g>\n<!-- 8&#45;&gt;12 -->\n<g id=\"edge32\" class=\"edge\">\n<title>8&#45;&gt;12</title>\n<path fill=\"none\" stroke=\"#707070\" d=\"M614.1773,-605.2174C671.328,-574.9361 863.5601,-473.082 924.3835,-440.8547\"/>\n</g>\n<!-- 8&#45;&gt;13 -->\n<g id=\"edge40\" class=\"edge\">\n<title>8&#45;&gt;13</title>\n<path fill=\"none\" stroke=\"#707070\" d=\"M612.4501,-602.3541C653.2431,-570.0732 769.1279,-478.3696 812.4175,-444.1131\"/>\n</g>\n<!-- 8&#45;&gt;14 -->\n<g id=\"edge48\" class=\"edge\">\n<title>8&#45;&gt;14</title>\n<path fill=\"none\" stroke=\"#707070\" d=\"M607.7741,-598.5181C629.3033,-564.8814 680.7198,-484.5494 703.6386,-448.7416\"/>\n</g>\n<!-- 8&#45;&gt;15 -->\n<g id=\"edge56\" class=\"edge\">\n<title>8&#45;&gt;15</title>\n<path fill=\"none\" stroke=\"#707070\" d=\"M598.2986,-595.5932C598.8588,-561.4576 600.0643,-488.0073 600.6569,-451.8988\"/>\n</g>\n<!-- 8&#45;&gt;16 -->\n<g id=\"edge64\" class=\"edge\">\n<title>8&#45;&gt;16</title>\n<path fill=\"none\" stroke=\"#707070\" d=\"M588.5362,-598.2037C568.037,-564.445 519.6318,-484.7297 497.8976,-448.9373\"/>\n</g>\n<!-- 8&#45;&gt;17 -->\n<g id=\"edge72\" class=\"edge\">\n<title>8&#45;&gt;17</title>\n<path fill=\"none\" stroke=\"#707070\" d=\"M583.9252,-602.3541C544.1917,-570.0732 431.317,-478.3696 389.1518,-444.1131\"/>\n</g>\n<!-- 8&#45;&gt;18 -->\n<g id=\"edge80\" class=\"edge\">\n<title>8&#45;&gt;18</title>\n<path fill=\"none\" stroke=\"#707070\" d=\"M582.104,-605.2174C526.0782,-575.0067 337.9382,-473.5564 277.7128,-441.0812\"/>\n</g>\n<!-- 19 -->\n<g id=\"node19\" class=\"node\">\n<title>19</title>\n<ellipse fill=\"#3498db\" stroke=\"#3498db\" cx=\"943\" cy=\"-245.3945\" rx=\"20.5982\" ry=\"20.5982\"/>\n<text text-anchor=\"middle\" x=\"943\" y=\"-241.6945\" font-family=\"Times,serif\" font-size=\"14.00\" fill=\"#3498db\">19</text>\n</g>\n<!-- 9&#45;&gt;19 -->\n<g id=\"edge81\" class=\"edge\">\n<title>9&#45;&gt;19</title>\n<path fill=\"none\" stroke=\"#707070\" d=\"M165.7194,-426.8541C270.6488,-402.3579 809.8221,-276.4854 922.3868,-250.2067\"/>\n</g>\n<!-- 20 -->\n<g id=\"node20\" class=\"node\">\n<title>20</title>\n<ellipse fill=\"#3498db\" stroke=\"#3498db\" cx=\"829\" cy=\"-245.3945\" rx=\"20.5982\" ry=\"20.5982\"/>\n<text text-anchor=\"middle\" x=\"829\" y=\"-241.6945\" font-family=\"Times,serif\" font-size=\"14.00\" fill=\"#3498db\">20</text>\n</g>\n<!-- 9&#45;&gt;20 -->\n<g id=\"edge91\" class=\"edge\">\n<title>9&#45;&gt;20</title>\n<path fill=\"none\" stroke=\"#707070\" d=\"M165.5182,-426.2165C259.9313,-400.4856 707.6206,-278.4746 808.692,-250.9291\"/>\n</g>\n<!-- 21 -->\n<g id=\"node21\" class=\"node\">\n<title>21</title>\n<ellipse fill=\"#3498db\" stroke=\"#3498db\" cx=\"715\" cy=\"-245.3945\" rx=\"20.5982\" ry=\"20.5982\"/>\n<text text-anchor=\"middle\" x=\"715\" y=\"-241.6945\" font-family=\"Times,serif\" font-size=\"14.00\" fill=\"#3498db\">21</text>\n</g>\n<!-- 9&#45;&gt;21 -->\n<g id=\"edge101\" class=\"edge\">\n<title>9&#45;&gt;21</title>\n<path fill=\"none\" stroke=\"#707070\" d=\"M165.2788,-425.3349C248.3324,-398.1489 606.1458,-281.0258 694.9799,-251.9477\"/>\n</g>\n<!-- 22 -->\n<g id=\"node22\" class=\"node\">\n<title>22</title>\n<ellipse fill=\"#3498db\" stroke=\"#3498db\" cx=\"601\" cy=\"-245.3945\" rx=\"20.5982\" ry=\"20.5982\"/>\n<text text-anchor=\"middle\" x=\"601\" y=\"-241.6945\" font-family=\"Times,serif\" font-size=\"14.00\" fill=\"#3498db\">22</text>\n</g>\n<!-- 9&#45;&gt;22 -->\n<g id=\"edge111\" class=\"edge\">\n<title>9&#45;&gt;22</title>\n<path fill=\"none\" stroke=\"#707070\" d=\"M164.6598,-424.1652C234.8941,-395.3898 506.6615,-284.0454 581.7072,-253.2988\"/>\n</g>\n<!-- 23 -->\n<g id=\"node23\" class=\"node\">\n<title>23</title>\n<ellipse fill=\"#3498db\" stroke=\"#3498db\" cx=\"487\" cy=\"-245.3945\" rx=\"20.5982\" ry=\"20.5982\"/>\n<text text-anchor=\"middle\" x=\"487\" y=\"-241.6945\" font-family=\"Times,serif\" font-size=\"14.00\" fill=\"#3498db\">23</text>\n</g>\n<!-- 9&#45;&gt;23 -->\n<g id=\"edge121\" class=\"edge\">\n<title>9&#45;&gt;23</title>\n<path fill=\"none\" stroke=\"#707070\" d=\"M163.896,-422.288C220.0527,-391.5432 408.9417,-288.13 468.7073,-255.4094\"/>\n</g>\n<!-- 24 -->\n<g id=\"node24\" class=\"node\">\n<title>24</title>\n<ellipse fill=\"#3498db\" stroke=\"#3498db\" cx=\"373\" cy=\"-245.3945\" rx=\"20.5982\" ry=\"20.5982\"/>\n<text text-anchor=\"middle\" x=\"373\" y=\"-241.6945\" font-family=\"Times,serif\" font-size=\"14.00\" fill=\"#3498db\">24</text>\n</g>\n<!-- 9&#45;&gt;24 -->\n<g id=\"edge131\" class=\"edge\">\n<title>9&#45;&gt;24</title>\n<path fill=\"none\" stroke=\"#707070\" d=\"M162.0748,-419.3809C201.8083,-386.6058 314.683,-293.4986 356.8482,-258.7176\"/>\n</g>\n<!-- 25 -->\n<g id=\"node25\" class=\"node\">\n<title>25</title>\n<ellipse fill=\"#3498db\" stroke=\"#3498db\" cx=\"259\" cy=\"-245.3945\" rx=\"20.5982\" ry=\"20.5982\"/>\n<text text-anchor=\"middle\" x=\"259\" y=\"-241.6945\" font-family=\"Times,serif\" font-size=\"14.00\" fill=\"#3498db\">25</text>\n</g>\n<!-- 9&#45;&gt;25 -->\n<g id=\"edge141\" class=\"edge\">\n<title>9&#45;&gt;25</title>\n<path fill=\"none\" stroke=\"#707070\" d=\"M157.2729,-415.4862C177.698,-381.3346 226.4777,-299.773 248.2212,-263.417\"/>\n</g>\n<!-- 26 -->\n<g id=\"node26\" class=\"node\">\n<title>26</title>\n<ellipse fill=\"#3498db\" stroke=\"#3498db\" cx=\"145\" cy=\"-245.3945\" rx=\"20.5982\" ry=\"20.5982\"/>\n<text text-anchor=\"middle\" x=\"145\" y=\"-241.6945\" font-family=\"Times,serif\" font-size=\"14.00\" fill=\"#3498db\">26</text>\n</g>\n<!-- 9&#45;&gt;26 -->\n<g id=\"edge151\" class=\"edge\">\n<title>9&#45;&gt;26</title>\n<path fill=\"none\" stroke=\"#707070\" d=\"M147.7069,-412.8571C147.1481,-378.2875 145.9333,-303.1365 145.34,-266.4259\"/>\n</g>\n<!-- 10&#45;&gt;19 -->\n<g id=\"edge82\" class=\"edge\">\n<title>10&#45;&gt;19</title>\n<path fill=\"none\" stroke=\"#707070\" d=\"M57.6253,-426.7656C179.1823,-401.8644 800.9383,-274.4961 922.4069,-249.613\"/>\n</g>\n<!-- 10&#45;&gt;20 -->\n<g id=\"edge92\" class=\"edge\">\n<title>10&#45;&gt;20</title>\n<path fill=\"none\" stroke=\"#707070\" d=\"M57.3735,-426.2165C168.1441,-400.2586 697.053,-276.3148 808.3976,-250.2224\"/>\n</g>\n<!-- 10&#45;&gt;21 -->\n<g id=\"edge102\" class=\"edge\">\n<title>10&#45;&gt;21</title>\n<path fill=\"none\" stroke=\"#707070\" d=\"M57.2912,-425.4362C157.1024,-398.1138 595.1557,-278.2007 694.7879,-250.9273\"/>\n</g>\n<!-- 10&#45;&gt;22 -->\n<g id=\"edge112\" class=\"edge\">\n<title>10&#45;&gt;22</title>\n<path fill=\"none\" stroke=\"#707070\" d=\"M57.0731,-424.3853C144.7886,-395.5206 493.9316,-280.6276 581.1675,-251.9208\"/>\n</g>\n<!-- 10&#45;&gt;23 -->\n<g id=\"edge122\" class=\"edge\">\n<title>10&#45;&gt;23</title>\n<path fill=\"none\" stroke=\"#707070\" d=\"M56.3359,-423.0159C130.1881,-392.5566 394.0076,-283.7479 467.7361,-253.3396\"/>\n</g>\n<!-- 10&#45;&gt;24 -->\n<g id=\"edge132\" class=\"edge\">\n<title>10&#45;&gt;24</title>\n<path fill=\"none\" stroke=\"#707070\" d=\"M55.5434,-420.7479C114.2882,-388.2991 295.8491,-288.0103 354.5139,-255.6056\"/>\n</g>\n<!-- 10&#45;&gt;25 -->\n<g id=\"edge142\" class=\"edge\">\n<title>10&#45;&gt;25</title>\n<path fill=\"none\" stroke=\"#707070\" d=\"M52.9657,-417.6431C93.827,-383.4823 201.8516,-293.1716 242.8807,-258.8705\"/>\n</g>\n<!-- 10&#45;&gt;26 -->\n<g id=\"edge152\" class=\"edge\">\n<title>10&#45;&gt;26</title>\n<path fill=\"none\" stroke=\"#707070\" d=\"M47.5521,-412.8571C68.1992,-377.3754 113.7236,-299.1425 134.405,-263.6017\"/>\n</g>\n<!-- 11&#45;&gt;19 -->\n<g id=\"edge83\" class=\"edge\">\n<title>11&#45;&gt;19</title>\n<path fill=\"none\" stroke=\"#707070\" d=\"M1045.3692,-413.5303C1023.8873,-378.2474 975.5145,-298.7977 953.8505,-263.2159\"/>\n</g>\n<!-- 11&#45;&gt;20 -->\n<g id=\"edge93\" class=\"edge\">\n<title>11&#45;&gt;20</title>\n<path fill=\"none\" stroke=\"#707070\" d=\"M1040.3974,-418.234C999.1284,-384.4922 887.3922,-293.1362 845.3196,-258.7374\"/>\n</g>\n<!-- 11&#45;&gt;21 -->\n<g id=\"edge103\" class=\"edge\">\n<title>11&#45;&gt;21</title>\n<path fill=\"none\" stroke=\"#707070\" d=\"M1038.1465,-421.2736C979.4943,-389.351 793.0892,-287.8961 733.5038,-255.4655\"/>\n</g>\n<!-- 11&#45;&gt;22 -->\n<g id=\"edge113\" class=\"edge\">\n<title>11&#45;&gt;22</title>\n<path fill=\"none\" stroke=\"#707070\" d=\"M1037.3152,-423.3692C963.8198,-393.3901 695.0032,-283.7387 620.3471,-253.2862\"/>\n</g>\n<!-- 11&#45;&gt;23 -->\n<g id=\"edge123\" class=\"edge\">\n<title>11&#45;&gt;23</title>\n<path fill=\"none\" stroke=\"#707070\" d=\"M1036.7423,-424.7093C949.8701,-396.3734 594.8971,-280.5883 506.8392,-251.8656\"/>\n</g>\n<!-- 11&#45;&gt;24 -->\n<g id=\"edge133\" class=\"edge\">\n<title>11&#45;&gt;24</title>\n<path fill=\"none\" stroke=\"#707070\" d=\"M1036.2957,-425.6364C937.1059,-398.6829 493.2478,-278.0702 393.1142,-250.8602\"/>\n</g>\n<!-- 11&#45;&gt;25 -->\n<g id=\"edge143\" class=\"edge\">\n<title>11&#45;&gt;25</title>\n<path fill=\"none\" stroke=\"#707070\" d=\"M1036.2988,-426.403C926.5117,-400.837 391.1568,-276.1696 279.4517,-250.157\"/>\n</g>\n<!-- 11&#45;&gt;26 -->\n<g id=\"edge153\" class=\"edge\">\n<title>11&#45;&gt;26</title>\n<path fill=\"none\" stroke=\"#707070\" d=\"M1036.1252,-426.9417C915.9108,-402.4507 287.0701,-274.3381 165.3961,-249.5497\"/>\n</g>\n<!-- 12&#45;&gt;19 -->\n<g id=\"edge84\" class=\"edge\">\n<title>12&#45;&gt;19</title>\n<path fill=\"none\" stroke=\"#707070\" d=\"M943,-410.0613C943,-374.3213 943,-301.9351 943,-266.2475\"/>\n</g>\n<!-- 12&#45;&gt;20 -->\n<g id=\"edge94\" class=\"edge\">\n<title>12&#45;&gt;20</title>\n<path fill=\"none\" stroke=\"#707070\" d=\"M932.0692,-413.195C910.2791,-377.72 861.6606,-298.5671 839.8977,-263.1363\"/>\n</g>\n<!-- 12&#45;&gt;21 -->\n<g id=\"edge104\" class=\"edge\">\n<title>12&#45;&gt;21</title>\n<path fill=\"none\" stroke=\"#707070\" d=\"M926.6028,-417.6431C884.5351,-383.3992 773.1526,-292.7318 731.2486,-258.6211\"/>\n</g>\n<!-- 12&#45;&gt;22 -->\n<g id=\"edge114\" class=\"edge\">\n<title>12&#45;&gt;22</title>\n<path fill=\"none\" stroke=\"#707070\" d=\"M924.6126,-421.0123C865.2302,-388.7867 678.99,-287.718 619.4783,-255.4223\"/>\n</g>\n<!-- 12&#45;&gt;23 -->\n<g id=\"edge124\" class=\"edge\">\n<title>12&#45;&gt;23</title>\n<path fill=\"none\" stroke=\"#707070\" d=\"M923.6975,-423.1345C849.1947,-392.8111 580.8185,-283.5795 506.3073,-253.2527\"/>\n</g>\n<!-- 12&#45;&gt;24 -->\n<g id=\"edge134\" class=\"edge\">\n<title>12&#45;&gt;24</title>\n<path fill=\"none\" stroke=\"#707070\" d=\"M923.0476,-424.4941C834.871,-395.7831 480.6405,-280.443 392.7904,-251.8384\"/>\n</g>\n<!-- 12&#45;&gt;25 -->\n<g id=\"edge144\" class=\"edge\">\n<title>12&#45;&gt;25</title>\n<path fill=\"none\" stroke=\"#707070\" d=\"M922.8996,-425.5367C822.8273,-398.3832 379.1762,-278.003 279.1015,-250.8488\"/>\n</g>\n<!-- 12&#45;&gt;26 -->\n<g id=\"edge154\" class=\"edge\">\n<title>12&#45;&gt;26</title>\n<path fill=\"none\" stroke=\"#707070\" d=\"M922.4721,-426.2165C810.7404,-400.2302 276.7813,-276.0437 165.3921,-250.1372\"/>\n</g>\n<!-- 13&#45;&gt;19 -->\n<g id=\"edge85\" class=\"edge\">\n<title>13&#45;&gt;19</title>\n<path fill=\"none\" stroke=\"#707070\" d=\"M839.9308,-413.195C861.7209,-377.72 910.3394,-298.5671 932.1023,-263.1363\"/>\n</g>\n<!-- 13&#45;&gt;20 -->\n<g id=\"edge95\" class=\"edge\">\n<title>13&#45;&gt;20</title>\n<path fill=\"none\" stroke=\"#707070\" d=\"M829,-410.0613C829,-374.3213 829,-301.9351 829,-266.2475\"/>\n</g>\n<!-- 13&#45;&gt;21 -->\n<g id=\"edge105\" class=\"edge\">\n<title>13&#45;&gt;21</title>\n<path fill=\"none\" stroke=\"#707070\" d=\"M818.0692,-413.195C796.2791,-377.72 747.6606,-298.5671 725.8977,-263.1363\"/>\n</g>\n<!-- 13&#45;&gt;22 -->\n<g id=\"edge115\" class=\"edge\">\n<title>13&#45;&gt;22</title>\n<path fill=\"none\" stroke=\"#707070\" d=\"M812.6028,-417.6431C770.5351,-383.3992 659.1526,-292.7318 617.2486,-258.6211\"/>\n</g>\n<!-- 13&#45;&gt;23 -->\n<g id=\"edge125\" class=\"edge\">\n<title>13&#45;&gt;23</title>\n<path fill=\"none\" stroke=\"#707070\" d=\"M810.6126,-421.0123C751.2302,-388.7867 564.99,-287.718 505.4783,-255.4223\"/>\n</g>\n<!-- 13&#45;&gt;24 -->\n<g id=\"edge135\" class=\"edge\">\n<title>13&#45;&gt;24</title>\n<path fill=\"none\" stroke=\"#707070\" d=\"M809.6975,-423.1345C735.1947,-392.8111 466.8185,-283.5795 392.3073,-253.2527\"/>\n</g>\n<!-- 13&#45;&gt;25 -->\n<g id=\"edge145\" class=\"edge\">\n<title>13&#45;&gt;25</title>\n<path fill=\"none\" stroke=\"#707070\" d=\"M809.0476,-424.4941C720.871,-395.7831 366.6405,-280.443 278.7904,-251.8384\"/>\n</g>\n<!-- 13&#45;&gt;26 -->\n<g id=\"edge155\" class=\"edge\">\n<title>13&#45;&gt;26</title>\n<path fill=\"none\" stroke=\"#707070\" d=\"M808.8996,-425.5367C708.8273,-398.3832 265.1762,-278.003 165.1015,-250.8488\"/>\n</g>\n<!-- 14&#45;&gt;19 -->\n<g id=\"edge86\" class=\"edge\">\n<title>14&#45;&gt;19</title>\n<path fill=\"none\" stroke=\"#707070\" d=\"M731.3972,-417.6431C773.4649,-383.3992 884.8474,-292.7318 926.7514,-258.6211\"/>\n</g>\n<!-- 14&#45;&gt;20 -->\n<g id=\"edge96\" class=\"edge\">\n<title>14&#45;&gt;20</title>\n<path fill=\"none\" stroke=\"#707070\" d=\"M725.9308,-413.195C747.7209,-377.72 796.3394,-298.5671 818.1023,-263.1363\"/>\n</g>\n<!-- 14&#45;&gt;21 -->\n<g id=\"edge106\" class=\"edge\">\n<title>14&#45;&gt;21</title>\n<path fill=\"none\" stroke=\"#707070\" d=\"M715,-410.0613C715,-374.3213 715,-301.9351 715,-266.2475\"/>\n</g>\n<!-- 14&#45;&gt;22 -->\n<g id=\"edge116\" class=\"edge\">\n<title>14&#45;&gt;22</title>\n<path fill=\"none\" stroke=\"#707070\" d=\"M704.0692,-413.195C682.2791,-377.72 633.6606,-298.5671 611.8977,-263.1363\"/>\n</g>\n<!-- 14&#45;&gt;23 -->\n<g id=\"edge126\" class=\"edge\">\n<title>14&#45;&gt;23</title>\n<path fill=\"none\" stroke=\"#707070\" d=\"M698.6028,-417.6431C656.5351,-383.3992 545.1526,-292.7318 503.2486,-258.6211\"/>\n</g>\n<!-- 14&#45;&gt;24 -->\n<g id=\"edge136\" class=\"edge\">\n<title>14&#45;&gt;24</title>\n<path fill=\"none\" stroke=\"#707070\" d=\"M696.6126,-421.0123C637.2302,-388.7867 450.99,-287.718 391.4783,-255.4223\"/>\n</g>\n<!-- 14&#45;&gt;25 -->\n<g id=\"edge146\" class=\"edge\">\n<title>14&#45;&gt;25</title>\n<path fill=\"none\" stroke=\"#707070\" d=\"M695.6975,-423.1345C621.1947,-392.8111 352.8185,-283.5795 278.3073,-253.2527\"/>\n</g>\n<!-- 14&#45;&gt;26 -->\n<g id=\"edge156\" class=\"edge\">\n<title>14&#45;&gt;26</title>\n<path fill=\"none\" stroke=\"#707070\" d=\"M695.0476,-424.4941C606.871,-395.7831 252.6405,-280.443 164.7904,-251.8384\"/>\n</g>\n<!-- 15&#45;&gt;19 -->\n<g id=\"edge87\" class=\"edge\">\n<title>15&#45;&gt;19</title>\n<path fill=\"none\" stroke=\"#707070\" d=\"M619.3874,-421.0123C678.7698,-388.7867 865.01,-287.718 924.5217,-255.4223\"/>\n</g>\n<!-- 15&#45;&gt;20 -->\n<g id=\"edge97\" class=\"edge\">\n<title>15&#45;&gt;20</title>\n<path fill=\"none\" stroke=\"#707070\" d=\"M617.3972,-417.6431C659.4649,-383.3992 770.8474,-292.7318 812.7514,-258.6211\"/>\n</g>\n<!-- 15&#45;&gt;21 -->\n<g id=\"edge107\" class=\"edge\">\n<title>15&#45;&gt;21</title>\n<path fill=\"none\" stroke=\"#707070\" d=\"M611.9308,-413.195C633.7209,-377.72 682.3394,-298.5671 704.1023,-263.1363\"/>\n</g>\n<!-- 15&#45;&gt;22 -->\n<g id=\"edge117\" class=\"edge\">\n<title>15&#45;&gt;22</title>\n<path fill=\"none\" stroke=\"#707070\" d=\"M601,-410.0613C601,-374.3213 601,-301.9351 601,-266.2475\"/>\n</g>\n<!-- 15&#45;&gt;23 -->\n<g id=\"edge127\" class=\"edge\">\n<title>15&#45;&gt;23</title>\n<path fill=\"none\" stroke=\"#707070\" d=\"M590.0692,-413.195C568.2791,-377.72 519.6606,-298.5671 497.8977,-263.1363\"/>\n</g>\n<!-- 15&#45;&gt;24 -->\n<g id=\"edge137\" class=\"edge\">\n<title>15&#45;&gt;24</title>\n<path fill=\"none\" stroke=\"#707070\" d=\"M584.6028,-417.6431C542.5351,-383.3992 431.1526,-292.7318 389.2486,-258.6211\"/>\n</g>\n<!-- 15&#45;&gt;25 -->\n<g id=\"edge147\" class=\"edge\">\n<title>15&#45;&gt;25</title>\n<path fill=\"none\" stroke=\"#707070\" d=\"M582.6126,-421.0123C523.2302,-388.7867 336.99,-287.718 277.4783,-255.4223\"/>\n</g>\n<!-- 15&#45;&gt;26 -->\n<g id=\"edge157\" class=\"edge\">\n<title>15&#45;&gt;26</title>\n<path fill=\"none\" stroke=\"#707070\" d=\"M581.6975,-423.1345C507.1947,-392.8111 238.8185,-283.5795 164.3073,-253.2527\"/>\n</g>\n<!-- 16&#45;&gt;19 -->\n<g id=\"edge88\" class=\"edge\">\n<title>16&#45;&gt;19</title>\n<path fill=\"none\" stroke=\"#707070\" d=\"M506.3025,-423.1345C580.8053,-392.8111 849.1815,-283.5795 923.6927,-253.2527\"/>\n</g>\n<!-- 16&#45;&gt;20 -->\n<g id=\"edge98\" class=\"edge\">\n<title>16&#45;&gt;20</title>\n<path fill=\"none\" stroke=\"#707070\" d=\"M505.3874,-421.0123C564.7698,-388.7867 751.01,-287.718 810.5217,-255.4223\"/>\n</g>\n<!-- 16&#45;&gt;21 -->\n<g id=\"edge108\" class=\"edge\">\n<title>16&#45;&gt;21</title>\n<path fill=\"none\" stroke=\"#707070\" d=\"M503.3972,-417.6431C545.4649,-383.3992 656.8474,-292.7318 698.7514,-258.6211\"/>\n</g>\n<!-- 16&#45;&gt;22 -->\n<g id=\"edge118\" class=\"edge\">\n<title>16&#45;&gt;22</title>\n<path fill=\"none\" stroke=\"#707070\" d=\"M497.9308,-413.195C519.7209,-377.72 568.3394,-298.5671 590.1023,-263.1363\"/>\n</g>\n<!-- 16&#45;&gt;23 -->\n<g id=\"edge128\" class=\"edge\">\n<title>16&#45;&gt;23</title>\n<path fill=\"none\" stroke=\"#707070\" d=\"M487,-410.0613C487,-374.3213 487,-301.9351 487,-266.2475\"/>\n</g>\n<!-- 16&#45;&gt;24 -->\n<g id=\"edge138\" class=\"edge\">\n<title>16&#45;&gt;24</title>\n<path fill=\"none\" stroke=\"#707070\" d=\"M476.0692,-413.195C454.2791,-377.72 405.6606,-298.5671 383.8977,-263.1363\"/>\n</g>\n<!-- 16&#45;&gt;25 -->\n<g id=\"edge148\" class=\"edge\">\n<title>16&#45;&gt;25</title>\n<path fill=\"none\" stroke=\"#707070\" d=\"M470.6028,-417.6431C428.5351,-383.3992 317.1526,-292.7318 275.2486,-258.6211\"/>\n</g>\n<!-- 16&#45;&gt;26 -->\n<g id=\"edge158\" class=\"edge\">\n<title>16&#45;&gt;26</title>\n<path fill=\"none\" stroke=\"#707070\" d=\"M468.6126,-421.0123C409.2302,-388.7867 222.99,-287.718 163.4783,-255.4223\"/>\n</g>\n<!-- 17&#45;&gt;19 -->\n<g id=\"edge89\" class=\"edge\">\n<title>17&#45;&gt;19</title>\n<path fill=\"none\" stroke=\"#707070\" d=\"M392.9524,-424.4941C481.129,-395.7831 835.3595,-280.443 923.2096,-251.8384\"/>\n</g>\n<!-- 17&#45;&gt;20 -->\n<g id=\"edge99\" class=\"edge\">\n<title>17&#45;&gt;20</title>\n<path fill=\"none\" stroke=\"#707070\" d=\"M392.3025,-423.1345C466.8053,-392.8111 735.1815,-283.5795 809.6927,-253.2527\"/>\n</g>\n<!-- 17&#45;&gt;21 -->\n<g id=\"edge109\" class=\"edge\">\n<title>17&#45;&gt;21</title>\n<path fill=\"none\" stroke=\"#707070\" d=\"M391.3874,-421.0123C450.7698,-388.7867 637.01,-287.718 696.5217,-255.4223\"/>\n</g>\n<!-- 17&#45;&gt;22 -->\n<g id=\"edge119\" class=\"edge\">\n<title>17&#45;&gt;22</title>\n<path fill=\"none\" stroke=\"#707070\" d=\"M389.3972,-417.6431C431.4649,-383.3992 542.8474,-292.7318 584.7514,-258.6211\"/>\n</g>\n<!-- 17&#45;&gt;23 -->\n<g id=\"edge129\" class=\"edge\">\n<title>17&#45;&gt;23</title>\n<path fill=\"none\" stroke=\"#707070\" d=\"M383.9308,-413.195C405.7209,-377.72 454.3394,-298.5671 476.1023,-263.1363\"/>\n</g>\n<!-- 17&#45;&gt;24 -->\n<g id=\"edge139\" class=\"edge\">\n<title>17&#45;&gt;24</title>\n<path fill=\"none\" stroke=\"#707070\" d=\"M373,-410.0613C373,-374.3213 373,-301.9351 373,-266.2475\"/>\n</g>\n<!-- 17&#45;&gt;25 -->\n<g id=\"edge149\" class=\"edge\">\n<title>17&#45;&gt;25</title>\n<path fill=\"none\" stroke=\"#707070\" d=\"M362.0692,-413.195C340.2791,-377.72 291.6606,-298.5671 269.8977,-263.1363\"/>\n</g>\n<!-- 17&#45;&gt;26 -->\n<g id=\"edge159\" class=\"edge\">\n<title>17&#45;&gt;26</title>\n<path fill=\"none\" stroke=\"#707070\" d=\"M356.6028,-417.6431C314.5351,-383.3992 203.1526,-292.7318 161.2486,-258.6211\"/>\n</g>\n<!-- 18&#45;&gt;19 -->\n<g id=\"edge90\" class=\"edge\">\n<title>18&#45;&gt;19</title>\n<path fill=\"none\" stroke=\"#707070\" d=\"M279.1004,-425.5367C379.1727,-398.3832 822.8238,-278.003 922.8985,-250.8488\"/>\n</g>\n<!-- 18&#45;&gt;20 -->\n<g id=\"edge100\" class=\"edge\">\n<title>18&#45;&gt;20</title>\n<path fill=\"none\" stroke=\"#707070\" d=\"M278.9524,-424.4941C367.129,-395.7831 721.3595,-280.443 809.2096,-251.8384\"/>\n</g>\n<!-- 18&#45;&gt;21 -->\n<g id=\"edge110\" class=\"edge\">\n<title>18&#45;&gt;21</title>\n<path fill=\"none\" stroke=\"#707070\" d=\"M278.3025,-423.1345C352.8053,-392.8111 621.1815,-283.5795 695.6927,-253.2527\"/>\n</g>\n<!-- 18&#45;&gt;22 -->\n<g id=\"edge120\" class=\"edge\">\n<title>18&#45;&gt;22</title>\n<path fill=\"none\" stroke=\"#707070\" d=\"M277.3874,-421.0123C336.7698,-388.7867 523.01,-287.718 582.5217,-255.4223\"/>\n</g>\n<!-- 18&#45;&gt;23 -->\n<g id=\"edge130\" class=\"edge\">\n<title>18&#45;&gt;23</title>\n<path fill=\"none\" stroke=\"#707070\" d=\"M275.3972,-417.6431C317.4649,-383.3992 428.8474,-292.7318 470.7514,-258.6211\"/>\n</g>\n<!-- 18&#45;&gt;24 -->\n<g id=\"edge140\" class=\"edge\">\n<title>18&#45;&gt;24</title>\n<path fill=\"none\" stroke=\"#707070\" d=\"M269.9308,-413.195C291.7209,-377.72 340.3394,-298.5671 362.1023,-263.1363\"/>\n</g>\n<!-- 18&#45;&gt;25 -->\n<g id=\"edge150\" class=\"edge\">\n<title>18&#45;&gt;25</title>\n<path fill=\"none\" stroke=\"#707070\" d=\"M259,-410.0613C259,-374.3213 259,-301.9351 259,-266.2475\"/>\n</g>\n<!-- 18&#45;&gt;26 -->\n<g id=\"edge160\" class=\"edge\">\n<title>18&#45;&gt;26</title>\n<path fill=\"none\" stroke=\"#707070\" d=\"M248.0692,-413.195C226.2791,-377.72 177.6606,-298.5671 155.8977,-263.1363\"/>\n</g>\n<!-- 27 -->\n<g id=\"node27\" class=\"node\">\n<title>27</title>\n<ellipse fill=\"#e74c3c\" stroke=\"#e74c3c\" cx=\"544\" cy=\"-59.7982\" rx=\"20.5982\" ry=\"20.5982\"/>\n<text text-anchor=\"middle\" x=\"544\" y=\"-56.0982\" font-family=\"Times,serif\" font-size=\"14.00\" fill=\"#e74c3c\">27</text>\n</g>\n<!-- 19&#45;&gt;27 -->\n<g id=\"edge161\" class=\"edge\">\n<title>19&#45;&gt;27</title>\n<path fill=\"none\" stroke=\"#707070\" d=\"M924.0238,-236.5676C856.8098,-205.3028 630.4894,-100.029 563.0924,-68.679\"/>\n</g>\n<!-- 20&#45;&gt;27 -->\n<g id=\"edge162\" class=\"edge\">\n<title>20&#45;&gt;27</title>\n<path fill=\"none\" stroke=\"#707070\" d=\"M811.172,-233.7846C759.868,-200.3746 612.2945,-104.2726 561.4574,-71.1667\"/>\n</g>\n<!-- 21&#45;&gt;27 -->\n<g id=\"edge163\" class=\"edge\">\n<title>21&#45;&gt;27</title>\n<path fill=\"none\" stroke=\"#707070\" d=\"M700.7148,-229.8899C668.4463,-194.867 590.2394,-109.9845 558.1243,-75.1281\"/>\n</g>\n<!-- 22&#45;&gt;27 -->\n<g id=\"edge164\" class=\"edge\">\n<title>22&#45;&gt;27</title>\n<path fill=\"none\" stroke=\"#707070\" d=\"M594.7915,-225.1791C583.7982,-189.3841 561.0405,-115.2832 550.1146,-79.7077\"/>\n</g>\n<!-- 23&#45;&gt;27 -->\n<g id=\"edge165\" class=\"edge\">\n<title>23&#45;&gt;27</title>\n<path fill=\"none\" stroke=\"#707070\" d=\"M493.2085,-225.1791C504.2018,-189.3841 526.9595,-115.2832 537.8854,-79.7077\"/>\n</g>\n<!-- 24&#45;&gt;27 -->\n<g id=\"edge166\" class=\"edge\">\n<title>24&#45;&gt;27</title>\n<path fill=\"none\" stroke=\"#707070\" d=\"M387.2852,-229.8899C419.5537,-194.867 497.7606,-109.9845 529.8757,-75.1281\"/>\n</g>\n<!-- 25&#45;&gt;27 -->\n<g id=\"edge167\" class=\"edge\">\n<title>25&#45;&gt;27</title>\n<path fill=\"none\" stroke=\"#707070\" d=\"M276.828,-233.7846C328.132,-200.3746 475.7055,-104.2726 526.5426,-71.1667\"/>\n</g>\n<!-- 26&#45;&gt;27 -->\n<g id=\"edge168\" class=\"edge\">\n<title>26&#45;&gt;27</title>\n<path fill=\"none\" stroke=\"#707070\" d=\"M163.9762,-236.5676C231.1902,-205.3028 457.5106,-100.029 524.9076,-68.679\"/>\n</g>\n</g>\n</svg>\n"
          },
          "metadata": {
            "tags": []
          },
          "execution_count": 23
        }
      ]
    },
    {
      "cell_type": "code",
      "metadata": {
        "id": "K4HGLVSOe2l1",
        "colab_type": "code",
        "colab": {}
      },
      "source": [
        ""
      ],
      "execution_count": 0,
      "outputs": []
    }
  ]
}